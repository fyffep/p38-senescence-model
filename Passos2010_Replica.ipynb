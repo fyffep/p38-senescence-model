{
 "cells": [
  {
   "cell_type": "code",
   "execution_count": 1,
   "metadata": {
    "extensions": {
     "jupyter_dashboards": {
      "version": 1,
      "views": {
       "grid_default": {
        "hidden": true
       },
       "report_default": {}
      }
     }
    }
   },
   "outputs": [],
   "source": [
    "import tellurium as te\n",
    "import matplotlib.pyplot as plt\n",
    "import numpy as np\n",
    "from ipywidgets import *"
   ]
  },
  {
   "cell_type": "markdown",
   "metadata": {},
   "source": [
    "# What is Senescence? A Beginner's Guide\n",
    "\n",
    "### Why It Happens\n",
    "Senescence is an irreversible loss of replication and growth potential for a cell. There are several ways it can occur:\n",
    "- <b>Exogenous DNA damage:</b> For *in vitro* experiments, this is caused exogenously by ionizing radiation (IR). UV light is also capable of DNA damage.\n",
    "- <b>Endogenous DNA damage:</b> *In vivo*, uncapped telomeres, double strand breaks, or accumulation of reactive oxygen species (ROS) will trigger DNA damage response (DDR).\n",
    "    - <b>Short/uncapped telomeres:</b> When a cell divides, the repeat sequences of DNA at the end of each chromosome, called telomeres, are not replicated perfectly and thus erode after many divisions. If telomeres are too short, the DNA is more vulnerable to further damage, so the cell must senesce. \n",
    "    - <b>ROS:</b> Mitrochondrial oxidative metabolism, xenobiotics, cytokines, and bacterial invasion are just a few sources of ROS (<a href=\"https://www.ncbi.nlm.nih.gov/pmc/articles/PMC3454471/\">Ray et al., 2012</a>). However, as we will see, DDR can also increase ROS.\n",
    "\n",
    "<p>For this model, Passos et al. focus on applying IR *in vitro*. However, endogenous factors are more closely associated with aging.</p>\n",
    "\n",
    "### Observable Effects\n",
    "\n"
   ]
  },
  {
   "cell_type": "markdown",
   "metadata": {},
   "source": [
    "## Learning objectives\n",
    "\n",
    "- To demonstrate the positive feedback loop between DNA damage response and ROS that is necessary for cellular senescence\n",
    "- To describe the relationships between \n",
    "- To suggest the consequences of senescence and its feedback loop\n",
    "- To distinguish 3 possible cell fates: senescence, apoptosis, and restored function by discussing the conditions necessary for each"
   ]
  },
  {
   "cell_type": "markdown",
   "metadata": {},
   "source": [
    "## Introduction\n",
    "\n",
    "Senescence requires the activation of a feedback loop between DDR and ROS production. If the feedback loop continues for long enough, senescence becomes irreversible. "
   ]
  },
  {
   "cell_type": "code",
   "execution_count": 89,
   "metadata": {
    "extensions": {
     "jupyter_dashboards": {
      "version": 1,
      "views": {
       "grid_default": {
        "hidden": true
       },
       "report_default": {}
      }
     }
    }
   },
   "outputs": [],
   "source": [
    "#TODO why is p53 the first to respond, and why is p53_P upstream of p21?\n",
    "#TODO Does an increase in p21 speed up the growth rate of p53?\n",
    "#TODO write the names of our inhibitors (e.g. for p38 it's SB203580 )\n",
    "\n",
    "modelNoEvents = '''\n",
    "// Created by libAntimony v2.11.0\n",
    "model *Passos2010_DNAdamage_CellularSenescence()\n",
    "\n",
    "  // Compartments and Species:\n",
    "  compartment cell;\n",
    "  substanceOnly species Mdm2 in cell, p53 in cell, Mdm2_p53 in cell, Mdm2_mRNA in cell;\n",
    "  substanceOnly species p53_mRNA in cell, ATMA in cell, ATMI in cell, p21 in cell;\n",
    "  substanceOnly species p21_mRNA in cell, p21step1 in cell, p21step2 in cell;\n",
    "  substanceOnly species p53_P in cell, Mdm2_P in cell, p21_basal in cell;\n",
    "  substanceOnly species p38 in cell, p38_P in cell, GADD45 in cell, IR in cell;\n",
    "  substanceOnly species damDNA in cell, ROS in cell, basalROS in cell, $Sink in cell;\n",
    "  substanceOnly species $Source in cell;\n",
    "\n",
    "  // Reactions:\n",
    "  p53mRNASynthesis: $Source => p53_mRNA; ksynp53mRNA*Source;\n",
    "  p53mRNADegradation: p53_mRNA => $Sink; kdegp53mRNA*p53_mRNA;\n",
    "  Mdm2Synthesis: Mdm2_mRNA => Mdm2_mRNA + Mdm2; ksynMdm2*Mdm2_mRNA;\n",
    "  Mdm2mRNASynthesis1: p53 => p53 + Mdm2_mRNA; ksynMdm2mRNA*p53;\n",
    "  Mdm2mRNASynthesis2: p53_P => p53_P + Mdm2_mRNA; ksynMdm2mRNA*p53_P;\n",
    "  Mdm2mRNADegradation: Mdm2_mRNA => $Sink; kdegMdm2mRNA*Mdm2_mRNA;\n",
    "  Mdm2Degradation: Mdm2 => $Sink; kdegMdm2*Mdm2;\n",
    "  p53Synthesis: p53_mRNA => p53 + p53_mRNA; ksynp53*p53_mRNA;\n",
    "  p53Degradation: Mdm2_p53 => Mdm2; kdegp53*Mdm2_p53;\n",
    "  p53Mdm2IndepDegradation1: p53_P => $Sink; kdegp53mdm2ind*p53_P;\n",
    "  p53Mdm2IndepDegradation2: p53 => $Sink; kdegp53mdm2ind*p53;\n",
    "  P53_Mdm2Binding: p53 + Mdm2 => Mdm2_p53; kbinMdm2p53*p53*Mdm2;\n",
    "  P53_Mdm2Release: Mdm2_p53 => p53 + Mdm2; krelMdm2p53*Mdm2_p53;\n",
    "  DNAdamage: IR => IR + damDNA; kdam*IR;\n",
    "  DNArepair: damDNA => $Sink; krepair*damDNA;\n",
    "  ATMactivation: damDNA + ATMI => damDNA + ATMA; kactATM*damDNA*ATMI;\n",
    "  p53phoshorylation: p53 + ATMA => p53_P + ATMA; kphosp53*p53*ATMA;\n",
    "  p53dephosorylation: p53_P => p53; kdephosp53*p53_P;\n",
    "  Mdm2phoshorylation: Mdm2 + ATMA => Mdm2_P + ATMA; kphosMdm2*Mdm2*ATMA;\n",
    "  Mdm2dephosorylation: Mdm2_P => Mdm2; kdephosMdm2*Mdm2_P;\n",
    "  Mdm2Pdegradation: Mdm2_P => $Sink; kdegATMMdm2*Mdm2_P;\n",
    "  ATMInactivation: ATMA => ATMI; kinactATM*ATMA;\n",
    "  p21mRNASynthesis1: p53 => p53 + p21_mRNA; ksynp21mRNAp53*p53;\n",
    "  p21mRNASynthesis2: p53_P => p53_P + p21_mRNA; ksynp21mRNAp53P*p53_P;\n",
    "  p21mRNADegradation: p21_mRNA => $Sink; kdegp21mRNA*p21_mRNA;\n",
    "  p21Synthesis1: p21_mRNA => p21_mRNA + p21step1; ksynp21step1*p21_mRNA;\n",
    "  p21Synthesis2: p21step1 => p21step2; ksynp21step2*p21step1;\n",
    "  p21Synthesis3: p21step2 => p21; ksynp21step3*p21step2;\n",
    "  p21degradation: p21 => $Sink; kdegp21*p21;\n",
    "  GADD45activation2: p21 => p21 + GADD45; kGADD45*p21;\n",
    "  GADD45degradation: GADD45 => $Sink; kdegGADD45*GADD45;\n",
    "  p38activation: p38 + GADD45 => p38_P + GADD45; kphosp38*p38*GADD45;\n",
    "  p38inactivation: p38_P => p38; kdephosp38*p38_P;\n",
    "  ROSgenerationP38: p38_P => p38_P + ROS; kgenROSp38*p38_P*kp38ROS; //one therapy for this is p38 inhibition\n",
    "  ROSremoval: ROS => $Sink; kremROS*ROS;\n",
    "  ROSDNAdamage: ROS => ROS + damDNA; kdamROS*ROS;\n",
    "  basalROSDNAdamage: basalROS => basalROS + damDNA; kdamBasalROS*basalROS;\n",
    "  #Chain: p21 activates GADD45, GADD45 phosphoralizes p38, p38_P makes ROS.\n",
    "\n",
    "  // Events:\n",
    "  %s\n",
    "\n",
    "  // Species initializations:\n",
    "  Mdm2 = 5/cell;\n",
    "  p53 = 5/cell;\n",
    "  Mdm2_p53 = 95/cell;\n",
    "  Mdm2_mRNA = 10/cell;\n",
    "  p53_mRNA = 10/cell;\n",
    "  ATMA = 0;\n",
    "  ATMI = 200/cell;\n",
    "  p21 = 0;\n",
    "  p21_mRNA = 1/cell;\n",
    "  p21step1 = 0;\n",
    "  p21step2 = 0;\n",
    "  p53_P = 0;\n",
    "  Mdm2_P = 0;\n",
    "  p21_basal = 7/cell;\n",
    "  p38 = 100/cell;\n",
    "  p38_P = 0;\n",
    "  GADD45 = 0;\n",
    "  IR = 0;\n",
    "  damDNA = 0;\n",
    "  ROS = 0;\n",
    "  basalROS = 10/cell;\n",
    "  Sink = 1/cell;\n",
    "  Source = 1/cell;\n",
    "\n",
    "  // Compartment initializations:\n",
    "  cell = 1;\n",
    "\n",
    "  // Variable initializations:\n",
    "  kp38ROS = 1;\n",
    "  ksynMdm2 = 0.000495;\n",
    "  kdegMdm2 = 0.000433;\n",
    "  ksynp53 = 0.006;\n",
    "  kdegp53 = 0.000825;\n",
    "  kdegp53mdm2ind = 8.25e-07;\n",
    "  kbinMdm2p53 = 0.001155;\n",
    "  krelMdm2p53 = 1.155e-06;\n",
    "  ksynMdm2mRNA = 0.0001;\n",
    "  kdegMdm2mRNA = 0.0001;\n",
    "  kactATM = 2e-05;\n",
    "  kdegATMMdm2 = 0.0004;\n",
    "  kinactATM = 0.0005;\n",
    "  kphosp53 = 0.006;\n",
    "  kdephosp53 = 0.5;\n",
    "  kphosMdm2 = 2;\n",
    "  kdephosMdm2 = 0.5;\n",
    "  kphosp38 = 0.008;\n",
    "  kdephosp38 = 0.1;\n",
    "  kdam = 0.007; #rate of damage by ROS\n",
    "  krepair = 6e-05;\n",
    "  kGADD45 = 4e-06;\n",
    "  kdegGADD45 = 1e-05;\n",
    "  ksynp53mRNA = 0.001;\n",
    "  kdegp53mRNA = 0.0001;\n",
    "  ksynp21mRNAp53P = 6e-06;\n",
    "  ksynp21mRNAp53 = 6e-08;\n",
    "  kdegp21mRNA = 2.4e-05;\n",
    "  ksynp21step1 = 0.0004;\n",
    "  ksynp21step2 = 4e-05;\n",
    "  ksynp21step3 = 4e-05;\n",
    "  kdegp21 = 0.00019;\n",
    "  kremROS = 0.000383;\n",
    "  kgenROSp38 = 0.00045;\n",
    "  kdamROS = 1e-05;\n",
    "  kdamBasalROS = 1e-09;\n",
    "\n",
    "  // Other declarations:\n",
    "  var kp38ROS;\n",
    "  const cell, ksynMdm2, kdegMdm2, ksynp53, kdegp53, kdegp53mdm2ind, kbinMdm2p53;\n",
    "  const krelMdm2p53, ksynMdm2mRNA, kdegMdm2mRNA, kactATM, kdegATMMdm2, kinactATM;\n",
    "  const kphosp53, kdephosp53, kphosMdm2, kdephosMdm2, kphosp38, kdephosp38;\n",
    "  const kdam, krepair, kGADD45, kdegGADD45, ksynp53mRNA, kdegp53mRNA, ksynp21mRNAp53P;\n",
    "  const ksynp21mRNAp53, kdegp21mRNA, ksynp21step1, ksynp21step2, ksynp21step3;\n",
    "  const kdegp21, kremROS, kgenROSp38, kdamROS, kdamBasalROS;\n",
    "\n",
    "  // Unit definitions:\n",
    "  unit substance = item;\n",
    "\n",
    "  // SBO terms:\n",
    "  cell.sboTerm = 290\n",
    "  Mdm2.sboTerm = 245\n",
    "  p53.sboTerm = 245\n",
    "  Mdm2_p53.sboTerm = 296\n",
    "  Mdm2_mRNA.sboTerm = 278\n",
    "  p53_mRNA.sboTerm = 278\n",
    "  ATMA.sboTerm = 245\n",
    "  ATMI.sboTerm = 245\n",
    "  p21.sboTerm = 245\n",
    "  p21_mRNA.sboTerm = 278\n",
    "  p21step1.sboTerm = 245\n",
    "  p21step2.sboTerm = 245\n",
    "  p53_P.sboTerm = 245\n",
    "  Mdm2_P.sboTerm = 245\n",
    "  p21_basal.sboTerm = 245\n",
    "  p38.sboTerm = 245\n",
    "  p38_P.sboTerm = 245\n",
    "  GADD45.sboTerm = 245\n",
    "  IR.sboTerm = 405\n",
    "  damDNA.sboTerm = 251\n",
    "  ROS.sboTerm = 327\n",
    "  basalROS.sboTerm = 327\n",
    "  Sink.sboTerm = 291\n",
    "  Source.sboTerm = 291\n",
    "  kp38ROS.sboTerm = 9\n",
    "  ksynMdm2.sboTerm = 9\n",
    "  kdegMdm2.sboTerm = 356\n",
    "  ksynp53.sboTerm = 9\n",
    "  kdegp53.sboTerm = 356\n",
    "  kdegp53mdm2ind.sboTerm = 282\n",
    "  kbinMdm2p53.sboTerm = 337\n",
    "  krelMdm2p53.sboTerm = 282\n",
    "  ksynMdm2mRNA.sboTerm = 9\n",
    "  kdegMdm2mRNA.sboTerm = 282\n",
    "  kactATM.sboTerm = 363\n",
    "  kdegATMMdm2.sboTerm = 356\n",
    "  kinactATM.sboTerm = 349\n",
    "  kphosp53.sboTerm = 9\n",
    "  kdephosp53.sboTerm = 9\n",
    "  kdephosMdm2.sboTerm = 9\n",
    "  kphosp38.sboTerm = 9\n",
    "  kdephosp38.sboTerm = 9\n",
    "  kdam.sboTerm = 9\n",
    "  krepair.sboTerm = 9\n",
    "  kGADD45.sboTerm = 9\n",
    "  kdegGADD45.sboTerm = 356\n",
    "  ksynp53mRNA.sboTerm = 9\n",
    "  kdegp53mRNA.sboTerm = 356\n",
    "  ksynp21mRNAp53.sboTerm = 9\n",
    "  kdegp21mRNA.sboTerm = 356\n",
    "  ksynp21step1.sboTerm = 9\n",
    "  ksynp21step2.sboTerm = 9\n",
    "  ksynp21step3.sboTerm = 9\n",
    "  kdegp21.sboTerm = 356\n",
    "  kremROS.sboTerm = 356\n",
    "  kgenROSp38.sboTerm = 9\n",
    "  kdamROS.sboTerm = 9\n",
    "  kdamBasalROS.sboTerm = 9\n",
    "  p53mRNASynthesis.sboTerm = 183\n",
    "  p53mRNADegradation.sboTerm = 179\n",
    "  Mdm2Synthesis.sboTerm = 184\n",
    "  Mdm2mRNASynthesis1.sboTerm = 183\n",
    "  Mdm2mRNASynthesis2.sboTerm = 183\n",
    "  Mdm2mRNADegradation.sboTerm = 179\n",
    "  Mdm2Degradation.sboTerm = 179\n",
    "  p53Synthesis.sboTerm = 184\n",
    "  p53Degradation.sboTerm = 179\n",
    "  p53Mdm2IndepDegradation1.sboTerm = 179\n",
    "  p53Mdm2IndepDegradation2.sboTerm = 179\n",
    "  P53_Mdm2Binding.sboTerm = 526\n",
    "  P53_Mdm2Release.sboTerm = 180\n",
    "  DNAdamage.sboTerm = 375\n",
    "  DNArepair.sboTerm = 179\n",
    "  ATMactivation.sboTerm = 176\n",
    "  p53phoshorylation.sboTerm = 216\n",
    "  p53dephosorylation.sboTerm = 216\n",
    "  Mdm2phoshorylation.sboTerm = 216\n",
    "  Mdm2dephosorylation.sboTerm = 330\n",
    "  Mdm2Pdegradation.sboTerm = 179\n",
    "  ATMInactivation.sboTerm = 176\n",
    "  p21mRNASynthesis1.sboTerm = 183\n",
    "  p21mRNASynthesis2.sboTerm = 183\n",
    "  p21mRNADegradation.sboTerm = 179\n",
    "  p21Synthesis1.sboTerm = 184\n",
    "  p21Synthesis2.sboTerm = 184\n",
    "  p21Synthesis3.sboTerm = 184\n",
    "  p21degradation.sboTerm = 179\n",
    "  GADD45activation2.sboTerm = 176\n",
    "  GADD45degradation.sboTerm = 179\n",
    "  p38activation.sboTerm = 176\n",
    "  p38inactivation.sboTerm = 176\n",
    "  ROSgenerationP38.sboTerm = 393\n",
    "  ROSremoval.sboTerm = 179\n",
    "  ROSDNAdamage.sboTerm = 176\n",
    "  basalROSDNAdamage.sboTerm = 176\n",
    "\n",
    "  // CV terms:\n",
    "  cell hypernym \"http://identifiers.org/go/GO:0005623\"\n",
    "  Mdm2 hypernym \"http://identifiers.org/uniprot/Q00987\"\n",
    "  p53 hypernym \"http://identifiers.org/uniprot/P04637\"\n",
    "  Mdm2_p53 part \"http://identifiers.org/uniprot/Q00987\",\n",
    "                \"http://identifiers.org/uniprot/P04637\"\n",
    "  Mdm2_mRNA encodement \"http://identifiers.org/uniprot/Q00987\"\n",
    "  p53_mRNA encodement \"http://identifiers.org/uniprot/P04637\"\n",
    "  ATMA hypernym \"http://identifiers.org/uniprot/Q13315\"\n",
    "  ATMI hypernym \"http://identifiers.org/uniprot/Q13315\"\n",
    "  p21 hypernym \"http://identifiers.org/uniprot/P38936\"\n",
    "  p21_mRNA encodement \"http://identifiers.org/uniprot/P38936\"\n",
    "  p21step1 hypernym \"http://identifiers.org/uniprot/P38936\"\n",
    "  p21step2 hypernym \"http://identifiers.org/uniprot/P38936\"\n",
    "  p53_P hypernym \"http://identifiers.org/uniprot/P04637\"\n",
    "  Mdm2_P hypernym \"http://identifiers.org/uniprot/Q00987\"\n",
    "  p21_basal hypernym \"http://identifiers.org/uniprot/P38936\"\n",
    "  p38 hypernym \"http://identifiers.org/uniprot/Q16539\"\n",
    "  p38_P hypernym \"http://identifiers.org/uniprot/Q16539\"\n",
    "  GADD45 part \"http://identifiers.org/uniprot/P24522\",\n",
    "              \"http://identifiers.org/uniprot/O75293\",\n",
    "              \"http://identifiers.org/uniprot/O95257\"\n",
    "  damDNA hypernym \"http://identifiers.org/chebi/CHEBI:16991\"\n",
    "  ROS hypernym \"http://identifiers.org/chebi/CHEBI:26523\"\n",
    "  basalROS hypernym \"http://identifiers.org/chebi/CHEBI:26523\"\n",
    "  p53mRNASynthesis parthood \"http://identifiers.org/go/GO:0006351\"\n",
    "  p53mRNADegradation hypernym \"http://identifiers.org/go/GO:0009056\"\n",
    "  Mdm2Synthesis hypernym \"http://identifiers.org/go/GO:0006412\"\n",
    "  Mdm2mRNASynthesis1 hypernym \"http://identifiers.org/go/GO:0006351\"\n",
    "  Mdm2mRNASynthesis2 hypernym \"http://identifiers.org/go/GO:0006351\"\n",
    "  Mdm2mRNADegradation hypernym \"http://identifiers.org/go/GO:0009056\"\n",
    "  Mdm2Degradation hypernym \"http://identifiers.org/go/GO:0009056\"\n",
    "  p53Synthesis hypernym \"http://identifiers.org/go/GO:0006412\"\n",
    "  p53Degradation hypernym \"http://identifiers.org/go/GO:0009056\"\n",
    "  p53Mdm2IndepDegradation1 hypernym \"http://identifiers.org/go/GO:0009056\"\n",
    "  p53Mdm2IndepDegradation2 hypernym \"http://identifiers.org/go/GO:0009056\"\n",
    "  P53_Mdm2Binding hypernym \"http://identifiers.org/go/GO:0006461\"\n",
    "  P53_Mdm2Release hypernym \"http://identifiers.org/go/GO:0043241\"\n",
    "  DNAdamage hypernym \"http://identifiers.org/go/GO:0006950\"\n",
    "  DNArepair hypernym \"http://identifiers.org/go/GO:0006281\"\n",
    "  ATMactivation parthood \"http://identifiers.org/go/GO:0006974\"\n",
    "  p53phoshorylation hypernym \"http://identifiers.org/go/GO:0016310\"\n",
    "  p53dephosorylation hypernym \"http://identifiers.org/go/GO:0016310\"\n",
    "  Mdm2phoshorylation hypernym \"http://identifiers.org/go/GO:0016310\"\n",
    "  Mdm2dephosorylation hypernym \"http://identifiers.org/go/GO:0016311\"\n",
    "  Mdm2Pdegradation hypernym \"http://identifiers.org/go/GO:0009056\"\n",
    "  ATMInactivation hypernym \"http://identifiers.org/go/GO:0006464\"\n",
    "  p21mRNASynthesis1 hypernym \"http://identifiers.org/go/GO:0006351\"\n",
    "  p21mRNASynthesis2 hypernym \"http://identifiers.org/go/GO:0006351\"\n",
    "  p21mRNADegradation hypernym \"http://identifiers.org/go/GO:0009056\"\n",
    "  p21Synthesis1 hypernym \"http://identifiers.org/go/GO:0006412\"\n",
    "  p21Synthesis2 hypernym \"http://identifiers.org/go/GO:0006412\"\n",
    "  p21Synthesis3 hypernym \"http://identifiers.org/go/GO:0006412\"\n",
    "  p21degradation hypernym \"http://identifiers.org/go/GO:0009056\"\n",
    "  GADD45activation2 hypernym \"http://identifiers.org/go/GO:0006412\"\n",
    "  GADD45degradation hypernym \"http://identifiers.org/go/GO:0009056\"\n",
    "  p38activation hypernym \"http://identifiers.org/go/GO:0006464\"\n",
    "  p38inactivation hypernym \"http://identifiers.org/go/GO:0006464\"\n",
    "  ROSgenerationP38 hypernym \"http://identifiers.org/go/GO:0052064\"\n",
    "  ROSremoval hypernym \"http://identifiers.org/go/GO:0009056\"\n",
    "  ROSDNAdamage hypernym \"http://identifiers.org/go/GO:0034614\"\n",
    "  basalROSDNAdamage hypernym \"http://identifiers.org/go/GO:0034614\"\n",
    "end\n",
    "\n",
    "Passos2010_DNAdamage_CellularSenescence is \"Passos2010_DNAdamage_CellularSenescence\"\n",
    "\n",
    "Passos2010_DNAdamage_CellularSenescence model_entity_is \"http://identifiers.org/biomodels.db/MODEL5989624192\"\n",
    "Passos2010_DNAdamage_CellularSenescence model_entity_is \"http://identifiers.org/biomodels.db/BIOMD0000000287\"\n",
    "Passos2010_DNAdamage_CellularSenescence description \"http://identifiers.org/pubmed/20160708\"\n",
    "Passos2010_DNAdamage_CellularSenescence origin \"http://identifiers.org/biomodels.db/BIOMD0000000188\",\n",
    "                                               \"http://identifiers.org/biomodels.db/BIOMD0000000189\"\n",
    "Passos2010_DNAdamage_CellularSenescence parthood \"http://identifiers.org/kegg.pathway/ko05200\"\n",
    "Passos2010_DNAdamage_CellularSenescence taxon \"http://identifiers.org/taxonomy/9606\"\n",
    "Passos2010_DNAdamage_CellularSenescence hypernym \"http://identifiers.org/go/GO:0090398\",\n",
    "                                                 \"http://identifiers.org/go/GO:0006974\"\n",
    "'''\n",
    "defaultEvents = '''\n",
    "  stressCell: at time >= irDoseTime: IR = irIntensity; \n",
    "  stopStress: at time >= irDoseTime + irDoseDuration: IR = 0;\n",
    "  stopp38ROS: at time >= stopp38ROSTime: kp38ROS = 0.6; //default: day 8\n",
    "  irDoseTime = 172800; //default: day 2\n",
    "  irIntensity = 20; \n",
    "  irDoseDuration = 60; //default: 1 minute later\n",
    "  stopp38ROSTime = 8640000; //default: day 100\n",
    "'''\n",
    "r = te.loada(modelNoEvents%(defaultEvents))\n",
    "\n",
    "DAY = 60*60*24\n",
    "style = {'description_width': 'auto'}\n",
    "layout = {'width': '375px'}\n",
    "\n",
    "#Helper functions for other plots\n",
    "def getX_LIM(maxDays):\n",
    "    return np.arange(0, maxDays*(DAY+1), DAY)\n",
    "\n",
    "def getX_TICKS(maxDays):\n",
    "    if maxDays >= 60:\n",
    "        tickInterval = 10\n",
    "    elif maxDays >= 40:\n",
    "        tickInterval = 5\n",
    "    else:\n",
    "        tickInterval = 2\n",
    "    return [n if n % tickInterval == 0 else '' for n in np.arange(0, maxDays+tickInterval, 1)]"
   ]
  },
  {
   "cell_type": "markdown",
   "metadata": {},
   "source": [
    "### Plots of p21, p38_P, and p53 in Response to DNA Damage\n",
    "Three proteins, p21, phosphorylated p38 (p38_P), and p53, will be the focus of this model for the sake of simplicity, but they are certainly not the only species involved in senescence. The charts below plot the concentration of each protein and ROS after a DNA damage event at day 2. \n",
    "<br/>\n",
    "For this model, we will artificially impose DNA damage by administering 60 seconds of IR, typically 20 Gy on day 2."
   ]
  },
  {
   "cell_type": "code",
   "execution_count": 30,
   "metadata": {},
   "outputs": [
    {
     "data": {
      "application/vnd.jupyter.widget-view+json": {
       "model_id": "656af7fa358a4d27b7b67015d3a73d86",
       "version_major": 2,
       "version_minor": 0
      },
      "text/html": [
       "<p>Failed to display Jupyter Widget of type <code>HBox</code>.</p>\n",
       "<p>\n",
       "  If you're reading this message in the Jupyter Notebook or JupyterLab Notebook, it may mean\n",
       "  that the widgets JavaScript is still loading. If this message persists, it\n",
       "  likely means that the widgets JavaScript library is either not installed or\n",
       "  not enabled. See the <a href=\"https://ipywidgets.readthedocs.io/en/stable/user_install.html\">Jupyter\n",
       "  Widgets Documentation</a> for setup instructions.\n",
       "</p>\n",
       "<p>\n",
       "  If you're reading this message in another frontend (for example, a static\n",
       "  rendering on GitHub or <a href=\"https://nbviewer.jupyter.org/\">NBViewer</a>),\n",
       "  it may mean that your frontend doesn't currently support widgets.\n",
       "</p>\n"
      ],
      "text/plain": [
       "HBox(children=(ToggleButtons(description='Parameter to Show:', options=('p53', 'p21', 'p38_P', 'ROS'), style=ToggleButtonsStyle(description_width='auto'), value='p53'),))"
      ]
     },
     "metadata": {},
     "output_type": "display_data"
    },
    {
     "data": {
      "application/vnd.jupyter.widget-view+json": {
       "model_id": "dc147f30c20e4adea408bd746a5e2cc7",
       "version_major": 2,
       "version_minor": 0
      },
      "text/html": [
       "<p>Failed to display Jupyter Widget of type <code>Output</code>.</p>\n",
       "<p>\n",
       "  If you're reading this message in the Jupyter Notebook or JupyterLab Notebook, it may mean\n",
       "  that the widgets JavaScript is still loading. If this message persists, it\n",
       "  likely means that the widgets JavaScript library is either not installed or\n",
       "  not enabled. See the <a href=\"https://ipywidgets.readthedocs.io/en/stable/user_install.html\">Jupyter\n",
       "  Widgets Documentation</a> for setup instructions.\n",
       "</p>\n",
       "<p>\n",
       "  If you're reading this message in another frontend (for example, a static\n",
       "  rendering on GitHub or <a href=\"https://nbviewer.jupyter.org/\">NBViewer</a>),\n",
       "  it may mean that your frontend doesn't currently support widgets.\n",
       "</p>\n"
      ],
      "text/plain": [
       "Output()"
      ]
     },
     "metadata": {},
     "output_type": "display_data"
    }
   ],
   "source": [
    "#Exercise: Relationship between one protein and ROS\n",
    "r = te.loada(model)\n",
    "def rePlot(parameter):\n",
    "    r.reset()\n",
    "    DAY_COUNT = 8\n",
    "    \n",
    "    parameterList = [\"time\", parameter, \"ROS\"]\n",
    "    result = r.simulate(0, DAY*DAY_COUNT, 20000, parameterList)\n",
    "    \n",
    "    plt.grid(True)\n",
    "    plt.interactive(False)\n",
    "    for i in range(1, len(parameterList)):\n",
    "        plt.plot(result[:,0], result[:,i])\n",
    "    plt.xlabel(\"Time in Days\")\n",
    "    plt.xticks(getX_LIM(DAY_COUNT), getX_TICKS(DAY_COUNT))\n",
    "    parameterList.remove(\"time\")\n",
    "    plt.legend(parameterList)\n",
    "    plt.title(\"Senescence Process with \"+parameter)\n",
    "\n",
    "    plt.show(block=True)\n",
    "    plt.close()\n",
    "\n",
    "#Create toggle buttons\n",
    "toggle = widgets.ToggleButtons(\n",
    "    options=[\"p53\", \"p21\", \"p38_P\", \"ROS\"],\n",
    "#     options=[\"p53\", \"p21\", \"GADD45\", \"p38\", \"ROS\"], #TODO include GADD45 elsewhere\n",
    "    description='Parameter to Show:',\n",
    "    disabled=False,\n",
    "    button_style='', # 'success', 'info', 'warning', 'danger' or ''\n",
    "    style=style\n",
    ")\n",
    "ui = widgets.HBox([toggle])\n",
    "out = widgets.interactive_output(rePlot, {'parameter': toggle})\n",
    "display(ui, out)"
   ]
  },
  {
   "cell_type": "code",
   "execution_count": 4,
   "metadata": {},
   "outputs": [
    {
     "data": {
      "application/vnd.jupyter.widget-view+json": {
       "model_id": "8ecf8ebe8e9d4e099dac08c88855d721",
       "version_major": 2,
       "version_minor": 0
      },
      "text/html": [
       "<p>Failed to display Jupyter Widget of type <code>interactive</code>.</p>\n",
       "<p>\n",
       "  If you're reading this message in the Jupyter Notebook or JupyterLab Notebook, it may mean\n",
       "  that the widgets JavaScript is still loading. If this message persists, it\n",
       "  likely means that the widgets JavaScript library is either not installed or\n",
       "  not enabled. See the <a href=\"https://ipywidgets.readthedocs.io/en/stable/user_install.html\">Jupyter\n",
       "  Widgets Documentation</a> for setup instructions.\n",
       "</p>\n",
       "<p>\n",
       "  If you're reading this message in another frontend (for example, a static\n",
       "  rendering on GitHub or <a href=\"https://nbviewer.jupyter.org/\">NBViewer</a>),\n",
       "  it may mean that your frontend doesn't currently support widgets.\n",
       "</p>\n"
      ],
      "text/plain": [
       "interactive(children=(IntSlider(value=40, continuous_update=False, description='Days in Simulation:', layout=Layout(width='375px'), max=50, min=2, style=SliderStyle(description_width='auto')), Checkbox(value=False, description='Show plots separately', layout=Layout(width='375px'), style=DescriptionStyle(description_width='auto')), Output()), _dom_classes=('widget-interact',))"
      ]
     },
     "metadata": {},
     "output_type": "display_data"
    }
   ],
   "source": [
    "#Same as above -- might delete\n",
    "\n",
    "def customizePlot(plt, maxDays):\n",
    "    plt.xticks(getX_LIM(maxDays), getX_TICKS(maxDays))\n",
    "    plt.grid(True)\n",
    "    plt.interactive(False)\n",
    "    plt.xlabel(\"Time in Days\")\n",
    "\n",
    "#Show the growth of one parameter without any scanning.\n",
    "def plotParametersNoPerturb(maxDays, showSeparatePlots):\n",
    "    parameterList = ['p21', 'p38_P', 'p53', 'ROS']\n",
    "\n",
    "    if showSeparatePlots:\n",
    "        fig, axes = plt.subplots(2, 2)\n",
    "        for i in range(0, 4):\n",
    "            subplot = axes.flatten()[i]\n",
    "            subplot.figure.set_size_inches(10, 6)\n",
    "            subplot.grid(True)\n",
    "\n",
    "            plt.subplot(2, 2, i + 1)\n",
    "            customizePlot(plt, maxDays)\n",
    "\n",
    "            #Plot data\n",
    "            parameterName = parameterList[i]\n",
    "            plt.title(parameterName)\n",
    "            r.resetAll()\n",
    "            result = r.simulate(0, DAY*maxDays, 12000, [\"time\", parameterName])\n",
    "            plt.plot(result[:,0], result[:,1])\n",
    "\n",
    "        plt.tight_layout() # makes sure there's no overlap of axes, titles, ticks, etc\n",
    "    else:  \n",
    "        plt.figure (figsize=(10,4))\n",
    "        customizePlot(plt, maxDays)\n",
    "\n",
    "        #Plot data\n",
    "        plt.title(\"Model of DNA Damage Response\")\n",
    "        r.resetAll()\n",
    "        result = r.simulate(0, DAY*maxDays, 12000, [\"time\"] + parameterList)    \n",
    "        for i in range(1,5):\n",
    "            plt.plot(result[:,0], result[:,i], label=parameterList[i-1])\n",
    "\n",
    "        plt.legend()\n",
    "        \n",
    "    plt.show()\n",
    "\n",
    "sliderDays = IntSlider(description = 'Days in Simulation:', min=2, max=50, step=1, value=40, continuous_update=False, style=style, layout=layout)\n",
    "checkboxSeparatePlots = Checkbox(description = 'Show plots separately', value=False, style=style, layout=layout)\n",
    "interact(plotParametersNoPerturb, maxDays = sliderDays, showSeparatePlots=checkboxSeparatePlots);"
   ]
  },
  {
   "cell_type": "markdown",
   "metadata": {},
   "source": [
    "Try zooming in with the slider to see the change in concentrations near the radiation event. p53 has the fastest, most dramatic response to DNA damage. Meanwhile, ROS has a delayed growth. You should see that it grows most as p38_P increases; the plots trace very closely. We will discuss later why p38_P has the most direct impact on ROS."
   ]
  },
  {
   "cell_type": "markdown",
   "metadata": {},
   "source": [
    "## Radiation Events\n",
    "A certain level of DNA damage is necessary to push ROS into a higher fixed point. Try raising and lowering the intensity of radiation so that more DNA is damaged. Find how much IR is needed to trigger a higher steady-state concentration of ROS."
   ]
  },
  {
   "cell_type": "code",
   "execution_count": 5,
   "metadata": {
    "extensions": {
     "jupyter_dashboards": {
      "version": 1,
      "views": {
       "grid_default": {
        "col": 4,
        "height": 5,
        "hidden": false,
        "row": 0,
        "width": 4
       },
       "report_default": {}
      }
     }
    }
   },
   "outputs": [
    {
     "data": {
      "application/vnd.jupyter.widget-view+json": {
       "model_id": "15083f5009f645f9884aab738cd40f39",
       "version_major": 2,
       "version_minor": 0
      },
      "text/html": [
       "<p>Failed to display Jupyter Widget of type <code>interactive</code>.</p>\n",
       "<p>\n",
       "  If you're reading this message in the Jupyter Notebook or JupyterLab Notebook, it may mean\n",
       "  that the widgets JavaScript is still loading. If this message persists, it\n",
       "  likely means that the widgets JavaScript library is either not installed or\n",
       "  not enabled. See the <a href=\"https://ipywidgets.readthedocs.io/en/stable/user_install.html\">Jupyter\n",
       "  Widgets Documentation</a> for setup instructions.\n",
       "</p>\n",
       "<p>\n",
       "  If you're reading this message in another frontend (for example, a static\n",
       "  rendering on GitHub or <a href=\"https://nbviewer.jupyter.org/\">NBViewer</a>),\n",
       "  it may mean that your frontend doesn't currently support widgets.\n",
       "</p>\n"
      ],
      "text/plain": [
       "interactive(children=(IntSlider(value=2, continuous_update=False, description='Day IR is Applied:', layout=Layout(width='375px'), max=30, style=SliderStyle(description_width='auto')), IntSlider(value=40, continuous_update=False, description='Days in Simulation:', layout=Layout(width='375px'), min=2, style=SliderStyle(description_width='auto')), IntSlider(value=20, continuous_update=False, description='IR Intensity:', layout=Layout(width='375px'), style=SliderStyle(description_width='auto')), Output()), _dom_classes=('widget-interact',))"
      ]
     },
     "metadata": {},
     "output_type": "display_data"
    }
   ],
   "source": [
    "#Let user adjust the amount of radiation and see the effect on one parameter\n",
    "parameterName = \"ROS\"\n",
    "\n",
    "def rePlot(radiationDay, maxDays, intensity):\n",
    "    r.resetAll()\n",
    "    \n",
    "    r.irDoseTime = radiationDay * DAY\n",
    "    r.irIntensity = intensity\n",
    "    \n",
    "    result = r.simulate(0, DAY*maxDays, 12000, [\"time\", parameterName])\n",
    "    \n",
    "    # plt.figure (figsize=(10,4))\n",
    "    plt.grid(True)\n",
    "    plt.interactive(False)\n",
    "    dataToPlot = [0]*2\n",
    "    for i in range(0,2):\n",
    "        dataToPlot[i] = result[:,i]\n",
    "    plt.plot(*dataToPlot)\n",
    "    plt.xticks(getX_LIM(maxDays), getX_TICKS(maxDays))\n",
    "    plt.xlabel(\"Time in Days\")\n",
    "    plt.legend([parameterName])\n",
    "    plt.title(\"Effect of Radiation on %s\"%(parameterName))\n",
    "\n",
    "    plt.show(block=True)\n",
    "\n",
    "#TODO maybe slider1 is not needed\n",
    "slider1 = IntSlider(description = 'Day IR is Applied:', min=0, max=30, step=1, value=2, continuous_update=False, style=style, layout=layout)\n",
    "slider2 = IntSlider(description = 'Days in Simulation:', min=2, max=100, step=1, value=40, continuous_update=False, style=style, layout=layout)\n",
    "slider3 = IntSlider(description = 'IR Intensity:', min=0, max=100, step=1, value=20, continuous_update=False, style=style, layout=layout)\n",
    "interact(rePlot, radiationDay=slider1, maxDays = slider2, intensity = slider3);"
   ]
  },
  {
   "cell_type": "markdown",
   "metadata": {},
   "source": [
    "You should have seen that 8 Gy of IR is sufficient to push ROS into a higher steady state. We'll see below that the DDR proteins increase in quantity as ROS is increased, eventually triggering the feedback loop between DDR and ROS. Hence, the higher steady state of ROS occurs during this feedback loop."
   ]
  },
  {
   "cell_type": "markdown",
   "metadata": {},
   "source": [
    "The following plots show the effects of different amounts of IR on p21, p38, and p53. Each plot begins at day 35 since each protein reaches a steady state by that point, and independent simulations are separated with delays so that they are easier to see."
   ]
  },
  {
   "cell_type": "code",
   "execution_count": 6,
   "metadata": {},
   "outputs": [
    {
     "data": {
      "application/vnd.jupyter.widget-view+json": {
       "model_id": "1e5e64e2a8484bafa4ce76ea5600f603",
       "version_major": 2,
       "version_minor": 0
      },
      "text/html": [
       "<p>Failed to display Jupyter Widget of type <code>interactive</code>.</p>\n",
       "<p>\n",
       "  If you're reading this message in the Jupyter Notebook or JupyterLab Notebook, it may mean\n",
       "  that the widgets JavaScript is still loading. If this message persists, it\n",
       "  likely means that the widgets JavaScript library is either not installed or\n",
       "  not enabled. See the <a href=\"https://ipywidgets.readthedocs.io/en/stable/user_install.html\">Jupyter\n",
       "  Widgets Documentation</a> for setup instructions.\n",
       "</p>\n",
       "<p>\n",
       "  If you're reading this message in another frontend (for example, a static\n",
       "  rendering on GitHub or <a href=\"https://nbviewer.jupyter.org/\">NBViewer</a>),\n",
       "  it may mean that your frontend doesn't currently support widgets.\n",
       "</p>\n"
      ],
      "text/plain": [
       "interactive(children=(Checkbox(value=True, description='Show legend', layout=Layout(width='375px'), style=DescriptionStyle(description_width='auto')), Output()), _dom_classes=('widget-interact',))"
      ]
     },
     "metadata": {},
     "output_type": "display_data"
    }
   ],
   "source": [
    "#A delay-based plot showing the effect of different levels of radiation on any plot\n",
    "maxDays = 100\n",
    "plotStartDay = 35 #steady state day for most parameters\n",
    "\n",
    "def perturbRadiationAtSteadyState(parameterName, showLegend=True):\n",
    "    radiationDay = plotStartDay + 5 #5 is an arbitrary amount of space\n",
    "    plt.figure (figsize=(10,4))\n",
    "    for perturb in np.arange(0.0, 20, 2.0):\n",
    "        r.resetAll()\n",
    "        r.irIntensity=perturb\n",
    "        r.irDoseDuration = 60 #1min\n",
    "        r.irDoseTime = radiationDay * DAY\n",
    "        radiationDay += 2\n",
    "        r.simulate(0, plotStartDay*DAY, 1000, [\"time\", parameterName]) #get to steady state before plotting\n",
    "        m = r.simulate(plotStartDay*DAY, DAY*maxDays, 1000, [\"time\", parameterName])\n",
    "        te.plotArray(m, show=False, title=\"%s Response to Perturbations of IR Intensity\"%(parameterName), resetColorCycle=False, \n",
    "                     labels=['IR = %.1f'%(perturb)] if showLegend else None)\n",
    "\n",
    "    X_LIM = np.arange(plotStartDay*DAY, DAY*maxDays, DAY)\n",
    "    X_TICKS = [n if n % 5==0 else '' for n in np.arange(plotStartDay, maxDays, 1)]\n",
    "    plt.grid(True)\n",
    "    plt.xticks(X_LIM, X_TICKS)\n",
    "    plt.xlabel(\"Time in Days\")\n",
    "    plt.ylabel(\"Concentration of \"+parameterName)\n",
    "    plt.show()\n",
    "    \n",
    "def showAllPlots(showLegend):\n",
    "    perturbRadiationAtSteadyState(\"p21\", showLegend)\n",
    "    perturbRadiationAtSteadyState(\"p38\", showLegend)\n",
    "    perturbRadiationAtSteadyState(\"p53\", showLegend)\n",
    "    \n",
    "checkbox = Checkbox(description = 'Show legend', value=True, style=style, layout=layout)\n",
    "interact(showAllPlots, showLegend=checkbox);"
   ]
  },
  {
   "cell_type": "markdown",
   "metadata": {},
   "source": [
    "#### Observations\n",
    "A spike in a protein's concentration signifies a DNA damage response event, which is rapidly repaired. However, if a protein stays at a high concentration, that may be indicative of the senescence feedback loop.\n",
    "An IR intensity of 12 Gy is sufficient to knock every one of the 3 proteins here into a different steady state. Hence, a high concentration of ROS suggests (but does not necessarily guarantee) senescence. Conversely, low ROS suggests no senescence but possible quiescence (a temporary cease of cellular proliferation). \n",
    "\n",
    "#### Decreases in p38 (MAPK14)\n",
    "Of the 3 proteins above, p38 is the only one to decline in response to IR. This is because p38 is phosphorylated to p38_P more quickly in these conditions. High levels of p38, in fact, lead to apoptosis due to the p38-JNK† pathway (<a href=\"https://www.ncbi.nlm.nih.gov/pmc/articles/PMC3797964/\">Tamura et al., 2012</a>).\n",
    "In other words, p38 \"tips the balance\" towards apoptosis in cells stressed by ROS or DNA damage (<a href=\"https://www.ncbi.nlm.nih.gov/pmc/articles/PMC8533283/\">Whitaker and Cook</a>).\n",
    "\n",
    "Generally speaking, p38 is upstream of transforming growth factor-beta (TGFβ), and activation of one or both leads to ROS production (<a href=\"https://pubmed.ncbi.nlm.nih.gov/12897450\">Torres and Forman, 2003</a>; <a href=\"https://pubmed.ncbi.nlm.nih.gov/17961070/\">Koli et al., 2008</a>). At the same time, TGFβ itself induces ROS production for a positive feedback loop (<a href=\"https://pubmed.ncbi.nlm.nih.gov/17961070/\">Koli et al., 2008</a>). Meanwhile, p53 does not directly interact with the mitochondria, but ultimately stimulates ROS production by being upstream of TGFβ (Passos et al.).\n",
    "\n",
    "Given that phosphorylated p38 is capable of generating ROS, let's try inhibitng p38_P.\n",
    "\n",
    "<hr style=\"border-color: #AAAAAA\"></hr>\n",
    "\n",
    "† c-Jun N-terminal kinase (JNK) (<a href=\"https://pubmed.ncbi.nlm.nih.gov/18206122\">Matsuzawa and Ichijo, 2008</a>), when activated by ROS, moves FoxO3a, a transcription factor for CDKN1A, to the nucleus through phosphorylation (<a href=\"https://pubmed.ncbi.nlm.nih.gov/16288288\">Greer and Brunet, 2005</a>;  <a href=\"https://pubmed.ncbi.nlm.nih.gov/18171426\">Greer and Brunet, 2008</a>). FoxO3a then promotes p21, thus controlling cell cycle arrest (<a href=\"https://pubmed.ncbi.nlm.nih.gov/16288288\">Greer and Brunet, 2005</a>; <a href=\"https://pubmed.ncbi.nlm.nih.gov/14976264\"> Brunet and Sweeney, 2004</a>).\n"
   ]
  },
  {
   "cell_type": "code",
   "execution_count": 7,
   "metadata": {},
   "outputs": [
    {
     "data": {
      "application/vnd.jupyter.widget-view+json": {
       "model_id": "019fb7742714486987c2cd9d49a1d9c4",
       "version_major": 2,
       "version_minor": 0
      },
      "text/html": [
       "<p>Failed to display Jupyter Widget of type <code>interactive</code>.</p>\n",
       "<p>\n",
       "  If you're reading this message in the Jupyter Notebook or JupyterLab Notebook, it may mean\n",
       "  that the widgets JavaScript is still loading. If this message persists, it\n",
       "  likely means that the widgets JavaScript library is either not installed or\n",
       "  not enabled. See the <a href=\"https://ipywidgets.readthedocs.io/en/stable/user_install.html\">Jupyter\n",
       "  Widgets Documentation</a> for setup instructions.\n",
       "</p>\n",
       "<p>\n",
       "  If you're reading this message in another frontend (for example, a static\n",
       "  rendering on GitHub or <a href=\"https://nbviewer.jupyter.org/\">NBViewer</a>),\n",
       "  it may mean that your frontend doesn't currently support widgets.\n",
       "</p>\n"
      ],
      "text/plain": [
       "interactive(children=(IntSlider(value=6, continuous_update=False, description='Day to Inhibit p38_P:', layout=Layout(width='375px'), max=30, style=SliderStyle(description_width='auto')), IntSlider(value=40, continuous_update=False, description='Days in Simulation:', layout=Layout(width='375px'), max=50, min=2, style=SliderStyle(description_width='auto')), Output()), _dom_classes=('widget-interact',))"
      ]
     },
     "metadata": {},
     "output_type": "display_data"
    }
   ],
   "source": [
    "#Let user adjust the inhibition of p38, then observe the effect on ROS\n",
    "\n",
    "def plotColumn(plt, result):\n",
    "    for i in range(1, 4):\n",
    "        plt.plot(result[:,0], result[:,i])\n",
    "    plt.legend([\"p38_P\", \"ROS\"])\n",
    "\n",
    "\n",
    "def getDataWithTherapy(stop_p38_ROS_day, maxDays):\n",
    "    r.resetAll()\n",
    "    r.stopp38ROSTime = stop_p38_ROS_day * DAY\n",
    "    \n",
    "    return r.simulate(0, DAY*maxDays, 12000, [\"time\", \"p38_P\", \"ROS\", \"damDNA\"])\n",
    "\n",
    "def getDataControlGroup(maxDays):\n",
    "    r.resetAll()  \n",
    "    r.stopp38ROSTime = maxDays * 2 * DAY #never happens in our view\n",
    "    \n",
    "    return r.simulate(0, DAY*maxDays, 12000, [\"time\", \"p38_P\", \"ROS\", \"damDNA\"])\n",
    "    \n",
    "\n",
    "def plotP38Inhibition(stop_p38_ROS_day, maxDays):\n",
    "    X_LIM = np.arange(0, DAY*maxDays, DAY)\n",
    "    X_TICKS = [n if n%5==0 else '' for n in np.arange(0, maxDays, 1)]\n",
    "        \n",
    "    fig, axes = plt.subplots(1, 2)  # + kwarg arguments https://matplotlib.org/stable/api/_as_gen/matplotlib.pyplot.subplots.html\n",
    "    \n",
    "    for k in range(0, len(axes)):\n",
    "        subplot = axes[k]\n",
    "        subplot.figure.set_size_inches(10, 4)\n",
    "        subplot.grid(True)\n",
    "        \n",
    "        plt.sca(subplot)\n",
    "        plt.interactive(False)\n",
    "        plt.xticks(getX_LIM(maxDays), getX_TICKS(maxDays))\n",
    "        plt.xlabel(\"Time in Days\")\n",
    "        \n",
    "    #Plot data with p38 inhibition\n",
    "    axes[0].set_title(\"Effect of Inhibiting p38_P on ROS\")\n",
    "    plt.sca(axes[0])\n",
    "    result = getDataWithTherapy(stop_p38_ROS_day, maxDays)\n",
    "    plotColumn(plt, result)\n",
    "    \n",
    "    #Plot control group data\n",
    "    axes[1].set_title(\"Control Group (No Inhibition of p38_P)\")\n",
    "    plt.sca(axes[1])\n",
    "    result = getDataControlGroup(maxDays)\n",
    "    plotColumn(plt, result)\n",
    "    \n",
    "    plt.tight_layout() # makes sure there's no overlap of axes, titles, ticks, etc\n",
    "    plt.show()\n",
    "\n",
    "style = {'description_width': 'auto'}\n",
    "layout = {'width': '375px'}\n",
    "slider1 = IntSlider(description = 'Day to Inhibit p38_P:', min=0, max=30, step=1, value=6, continuous_update=False, style=style, layout=layout)\n",
    "slider2 = IntSlider(description = 'Days in Simulation:', min=2, max=50, step=1, value=40, continuous_update=False, style=style, layout=layout)\n",
    "interact(plotP38Inhibition, stop_p38_ROS_day=slider1, maxDays = slider2);"
   ]
  },
  {
   "cell_type": "markdown",
   "metadata": {},
   "source": [
    "ROS indeed decreases upon inhibiting p38_P. This is because the rate at which p38_P generates ROS was decreased to 60% of its normal rate. Note that radiation was still applied as normal with 20 Gy at day 2."
   ]
  },
  {
   "cell_type": "markdown",
   "metadata": {},
   "source": [
    "### Fast Response of p53\n",
    "\n",
    "We return to p53, the protein which spiked in concentration as soon as IR was applied. p53 is a transcription factor for roughly 500 genes which can, under the right conditions, \"activate diverse cellular effector processes, including cell cycle arrest, cellular senescence, coordination of various DNA damage repair pathways, metabolic adaptation and apoptotic cell death †\" (<a href=\"https://www.nature.com/articles/cdd2017169\">Aubrey et al., 2017</a>).\n",
    "\n",
    "p53 is a transcription factor for Mdm2 (mouse double minute-2), and, when the two bind, p53's transcriptional activity is inhibited, keeping the cell homeostatic (<a href=\"https://doi.org/10.3389/fphar.2016.00491\">Trino et al., 2016</a>). When a cell undergoes stress, Mdm2 is inhibited by ATM and other factors ††, allowing p53 to decide cell fate (<a href=\"https://www.nature.com/articles/cdd2017169\">Aubrey et al., 2017</a>).\n",
    "\n",
    "Due to this relationship with Mdm2, p53 is *not* the direct result of DNA damage. Rather, sensor kinases  ATM/ATR and DNA-PK activate first (Passos et al. TODO fix citation). Then, ATM \"phosphorylates both p53 and Mdm2 to interrupt their binding.\" Let's look at how increases in ATMA affect p53. \n",
    "\n",
    "<br/>\n",
    "† High expression of p53 leads to accumulation of PUMA in the mitochondria, which increases its membrane permeability and eventually induces mitochondrial injury for apoptosis (<a href=\"https://doi.org/10.1038/sj.ki.5002786\">Pabla and Dong, 2008</a>). \n",
    "<br/>\n",
    "†† Oncogene expressions (e.g. p14/ARF) and other other proteins, namely ATR, CHK1, and CHK2, also inhibit MdM2 (<a href=\"https://www.nature.com/articles/cdd2017169\">Aubrey et al., 2017</a>)."
   ]
  },
  {
   "cell_type": "markdown",
   "metadata": {},
   "source": [
    "#### Relationships between p53, ATM, and Mdm2\n",
    "In the graph below, all proteins respond relatively quickly at the time of DNA damage. The process is as follows:\n",
    "1. damDNA increases at day 2 due to IR.\n",
    "2. ATMA grows quickly due to the increase in damDNA\n",
    "3. ATMA phosphorylates Mdm2 and p53, preventing them from binding. At the same time, Mdm2_p53 separates into Mdm2 and p53 by release and p53 degradation.\n",
    "4. p53 is also synthesized by its mRNA sequence, so it grows quickly.\n",
    "5. p53 controls the senescence decision. In this case, the cell is senescent due to the elevated p53 levels."
   ]
  },
  {
   "cell_type": "code",
   "execution_count": 8,
   "metadata": {},
   "outputs": [
    {
     "data": {
      "application/vnd.jupyter.widget-view+json": {
       "model_id": "e6e9fb4aff9e40c0a7851c2a2a4ccaea",
       "version_major": 2,
       "version_minor": 0
      },
      "text/html": [
       "<p>Failed to display Jupyter Widget of type <code>interactive</code>.</p>\n",
       "<p>\n",
       "  If you're reading this message in the Jupyter Notebook or JupyterLab Notebook, it may mean\n",
       "  that the widgets JavaScript is still loading. If this message persists, it\n",
       "  likely means that the widgets JavaScript library is either not installed or\n",
       "  not enabled. See the <a href=\"https://ipywidgets.readthedocs.io/en/stable/user_install.html\">Jupyter\n",
       "  Widgets Documentation</a> for setup instructions.\n",
       "</p>\n",
       "<p>\n",
       "  If you're reading this message in another frontend (for example, a static\n",
       "  rendering on GitHub or <a href=\"https://nbviewer.jupyter.org/\">NBViewer</a>),\n",
       "  it may mean that your frontend doesn't currently support widgets.\n",
       "</p>\n"
      ],
      "text/plain": [
       "interactive(children=(IntSlider(value=10, continuous_update=False, description='Days in Simulation:', layout=Layout(width='375px'), max=40, min=2, style=SliderStyle(description_width='auto')), Output()), _dom_classes=('widget-interact',))"
      ]
     },
     "metadata": {},
     "output_type": "display_data"
    }
   ],
   "source": [
    "#Introduce plot with no parameter changing\n",
    "parameterList = [\"damDNA\", \"p53\", \"ATMA\", \"Mdm2\", \"Mdm2_p53\"]\n",
    "def plotP53Response(maxDays, ATM_ActivationRate):\n",
    "    plt.figure(figsize=(10,4))\n",
    "    customizePlot(plt, maxDays)\n",
    "\n",
    "    #Plot data\n",
    "    plt.title(\"p53, ATM, and Mdm2 Response to DNA Damage\")\n",
    "    r.resetAll()\n",
    "    r.kactATM = ATM_ActivationRate\n",
    "    result = r.simulate(0, DAY*maxDays, 12000, [\"time\"] + parameterList)    \n",
    "    for i in range(0, len(parameterList)):\n",
    "        plt.plot(result[:,0], result[:,i+1], label=parameterList[i])\n",
    "\n",
    "    plt.legend()\n",
    "    plt.show()\n",
    "\n",
    "def defaultPlotP53Response(maxDays):\n",
    "    KACT_ATM = 2e-05\n",
    "    plotP53Response(maxDays, KACT_ATM)\n",
    "    \n",
    "sliderDays = IntSlider(description = 'Days in Simulation:', min=2, max=40, step=1, value=10, continuous_update=False, style=style, layout=layout)\n",
    "interact(defaultPlotP53Response, maxDays=sliderDays);"
   ]
  },
  {
   "cell_type": "markdown",
   "metadata": {},
   "source": [
    "#### What happens when ATMA is inhibited? \n",
    "Lower the rate at which ATMI responds to damDNA and becomes ATMA. What happens to the rest of the system?"
   ]
  },
  {
   "cell_type": "code",
   "execution_count": 9,
   "metadata": {},
   "outputs": [
    {
     "data": {
      "application/vnd.jupyter.widget-view+json": {
       "model_id": "4e78a5342d784e18b5a9ed0893dab411",
       "version_major": 2,
       "version_minor": 0
      },
      "text/html": [
       "<p>Failed to display Jupyter Widget of type <code>interactive</code>.</p>\n",
       "<p>\n",
       "  If you're reading this message in the Jupyter Notebook or JupyterLab Notebook, it may mean\n",
       "  that the widgets JavaScript is still loading. If this message persists, it\n",
       "  likely means that the widgets JavaScript library is either not installed or\n",
       "  not enabled. See the <a href=\"https://ipywidgets.readthedocs.io/en/stable/user_install.html\">Jupyter\n",
       "  Widgets Documentation</a> for setup instructions.\n",
       "</p>\n",
       "<p>\n",
       "  If you're reading this message in another frontend (for example, a static\n",
       "  rendering on GitHub or <a href=\"https://nbviewer.jupyter.org/\">NBViewer</a>),\n",
       "  it may mean that your frontend doesn't currently support widgets.\n",
       "</p>\n"
      ],
      "text/plain": [
       "interactive(children=(IntSlider(value=10, continuous_update=False, description='Days in Simulation:', layout=Layout(width='375px'), max=40, min=2, style=SliderStyle(description_width='auto')), SelectionSlider(continuous_update=False, description='ATMA Activation Rate:', index=3, layout=Layout(width='375px'), options=(2.5e-06, 5e-06, 1e-05, 2e-05, 4e-05, 6e-05, 0.00012), style=DescriptionStyle(description_width='auto'), value=2e-05), Output()), _dom_classes=('widget-interact',))"
      ]
     },
     "metadata": {},
     "output_type": "display_data"
    }
   ],
   "source": [
    "#Same plot as above, but user can customize it\n",
    "sliderATM_ActivationRate = SelectionSlider(description = 'ATMA Activation Rate:', \n",
    "                                           options=[2.5e-06, 5e-06, 1e-05, 2e-05, 4e-05, 6e-05, 1.2e-04],\n",
    "                                           value=2e-05,\n",
    "                                           continuous_update=False, style=style, layout=layout, \n",
    "                                           readout_format='e')\n",
    "interact(plotP53Response, maxDays=sliderDays, ATM_ActivationRate=sliderATM_ActivationRate);"
   ]
  },
  {
   "cell_type": "code",
   "execution_count": 10,
   "metadata": {},
   "outputs": [
    {
     "data": {
      "application/vnd.jupyter.widget-view+json": {
       "model_id": "8dd1af6d160744afbbe69d80447d0f1e",
       "version_major": 2,
       "version_minor": 0
      },
      "text/html": [
       "<p>Failed to display Jupyter Widget of type <code>interactive</code>.</p>\n",
       "<p>\n",
       "  If you're reading this message in the Jupyter Notebook or JupyterLab Notebook, it may mean\n",
       "  that the widgets JavaScript is still loading. If this message persists, it\n",
       "  likely means that the widgets JavaScript library is either not installed or\n",
       "  not enabled. See the <a href=\"https://ipywidgets.readthedocs.io/en/stable/user_install.html\">Jupyter\n",
       "  Widgets Documentation</a> for setup instructions.\n",
       "</p>\n",
       "<p>\n",
       "  If you're reading this message in another frontend (for example, a static\n",
       "  rendering on GitHub or <a href=\"https://nbviewer.jupyter.org/\">NBViewer</a>),\n",
       "  it may mean that your frontend doesn't currently support widgets.\n",
       "</p>\n"
      ],
      "text/plain": [
       "interactive(children=(IntSlider(value=10, continuous_update=False, description='Days in Simulation:', layout=Layout(width='375px'), max=40, min=2, style=SliderStyle(description_width='auto')), SelectionSlider(continuous_update=False, description='ATMA Activation Rate:', index=3, layout=Layout(width='375px'), options=(2.5e-06, 5e-06, 1e-05, 2e-05, 4e-05, 6e-05, 0.00012), style=DescriptionStyle(description_width='auto'), value=2e-05), Output()), _dom_classes=('widget-interact',))"
      ]
     },
     "metadata": {},
     "output_type": "display_data"
    }
   ],
   "source": [
    "#Side-by-side plot where user can edit ATMA activation rate and see effects on two groups of parameters\n",
    "parameterList1 = [\"damDNA\", \"p53\", \"ATMA\", \"Mdm2\", \"Mdm2_p53\"]\n",
    "parameterList2 = [\"damDNA\", \"ATMA\", \"ROS\"]\n",
    "\n",
    "def plotColumn(plt, result, parameters):\n",
    "    for i in range(1, len(parameters)):\n",
    "        plt.plot(result[:,0], result[:,i])\n",
    "    plt.legend(parameters)\n",
    "\n",
    "\n",
    "def plotP53ResponseSeparatePlots(maxDays, ATM_ActivationRate):\n",
    "    X_LIM = np.arange(0, DAY*maxDays, DAY)\n",
    "    X_TICKS = [n if n%5==0 else '' for n in np.arange(0, maxDays, 1)]\n",
    "        \n",
    "    fig, axes = plt.subplots(1, 2)\n",
    "    \n",
    "    for k in range(0, len(axes)):\n",
    "        subplot = axes[k]\n",
    "        subplot.figure.set_size_inches(10, 4)\n",
    "        subplot.grid(True)\n",
    "        \n",
    "        plt.sca(subplot)\n",
    "        plt.interactive(False)\n",
    "        plt.xticks(getX_LIM(maxDays), getX_TICKS(maxDays))\n",
    "        plt.xlabel(\"Time in Days\")\n",
    "        \n",
    "    #Plot data with p38 inhibition\n",
    "    axes[0].set_title(\"Effect of Inhibiting ATMA on p53\")\n",
    "    plt.sca(axes[0])\n",
    "    r.resetAll()\n",
    "    r.kactATM = ATM_ActivationRate\n",
    "    r.reset()\n",
    "    result = r.simulate(0, DAY*maxDays, 12000, [\"time\"] + parameterList1)\n",
    "    plotColumn(plt, result, parameterList1)\n",
    "    \n",
    "    #Plot control group data\n",
    "    axes[1].set_title(\"Effect of Inhibiting ATMA on ROS\")\n",
    "    plt.sca(axes[1])\n",
    "    r.reset()\n",
    "    result = r.simulate(0, DAY*maxDays, 12000, [\"time\"] + parameterList2)\n",
    "    plotColumn(plt, result, parameterList2)\n",
    "    \n",
    "    plt.tight_layout() # makes sure there's no overlap of axes, titles, ticks, etc\n",
    "    plt.show()\n",
    "\n",
    "sliderATM_ActivationRate = SelectionSlider(description = 'ATMA Activation Rate:', \n",
    "                                           options=[2.5e-06, 5e-06, 1e-05, 2e-05, 4e-05, 6e-05, 1.2e-04],\n",
    "                                           value=2e-05,\n",
    "                                           continuous_update=False, style=style, layout=layout, \n",
    "                                           readout_format='e')\n",
    "sliderDays = IntSlider(description = 'Days in Simulation:', min=2, max=40, step=1, value=10, continuous_update=False, style=style, layout=layout)\n",
    "interact(plotP53ResponseSeparatePlots, maxDays=sliderDays, ATM_ActivationRate=sliderATM_ActivationRate);"
   ]
  },
  {
   "cell_type": "markdown",
   "metadata": {},
   "source": [
    "Increasing the activation rate of ATMA indeed increases the concentration of p53 since there is greater phosphorylation of p53 and Mdm2 that prevents binding of Mdm2_p53.\n",
    "However, DNA damage unexpectedly increases when ATMA activation increases. Why?\n",
    "<br>\n",
    "If ATMA is very high, then p53 is very high. Then, high p53 leads to high p21 and p38, which ultimately raise the production of ROS. Thus, raising ATMA promotes the beginning of the DDR-ROS positive feedback loop.\n",
    "\n",
    "<hr/>\n",
    "TODO confirm that high ATMA can trigger senescence.\n",
    "This paper agrees with me that ATMA inhibition should exacerbate DNA damage, not reduce it. https://www.nature.com/articles/s41598-020-61456-7#Sec2"
   ]
  },
  {
   "cell_type": "code",
   "execution_count": 11,
   "metadata": {},
   "outputs": [
    {
     "data": {
      "application/vnd.jupyter.widget-view+json": {
       "model_id": "f72adbb2335a41c1b5488a0078fc6d83",
       "version_major": 2,
       "version_minor": 0
      },
      "text/html": [
       "<p>Failed to display Jupyter Widget of type <code>interactive</code>.</p>\n",
       "<p>\n",
       "  If you're reading this message in the Jupyter Notebook or JupyterLab Notebook, it may mean\n",
       "  that the widgets JavaScript is still loading. If this message persists, it\n",
       "  likely means that the widgets JavaScript library is either not installed or\n",
       "  not enabled. See the <a href=\"https://ipywidgets.readthedocs.io/en/stable/user_install.html\">Jupyter\n",
       "  Widgets Documentation</a> for setup instructions.\n",
       "</p>\n",
       "<p>\n",
       "  If you're reading this message in another frontend (for example, a static\n",
       "  rendering on GitHub or <a href=\"https://nbviewer.jupyter.org/\">NBViewer</a>),\n",
       "  it may mean that your frontend doesn't currently support widgets.\n",
       "</p>\n"
      ],
      "text/plain": [
       "interactive(children=(IntSlider(value=10, continuous_update=False, description='Days in Simulation:', layout=Layout(width='375px'), max=40, min=2, style=SliderStyle(description_width='auto')), SelectionSlider(continuous_update=False, description='ATMA Activation Rate:', index=3, layout=Layout(width='375px'), options=(2.5e-06, 5e-06, 1e-05, 2e-05, 3e-05, 6e-05, 0.00012), style=DescriptionStyle(description_width='auto'), value=2e-05), Output()), _dom_classes=('widget-interact',))"
      ]
     },
     "metadata": {},
     "output_type": "display_data"
    }
   ],
   "source": [
    "parameterList = [\"damDNA\", \"ATMA\", \"p38_P\"]\n",
    "def plotP53Response(maxDays, ATM_ActivationRate):\n",
    "    plt.figure(figsize=(10,4))\n",
    "    customizePlot(plt, maxDays)\n",
    "\n",
    "    #Plot data\n",
    "    plt.title(\"p53, ATM, and Mdm2 Response to DNA Damage\")\n",
    "    r.resetAll()\n",
    "    r.kactATM = ATM_ActivationRate\n",
    "    result = r.simulate(0, DAY*maxDays, 12000, [\"time\"] + parameterList)    \n",
    "    for i in range(0, len(parameterList)):\n",
    "        plt.plot(result[:,0], result[:,i+1], label=parameterList[i])\n",
    "\n",
    "    plt.legend()\n",
    "    plt.show()\n",
    "\n",
    "sliderATM_ActivationRate = SelectionSlider(description = 'ATMA Activation Rate:', \n",
    "                                           options=[2.5e-06, 5e-06, 1e-05, 2e-05, 3e-05, 6e-05, 1.2e-04],\n",
    "                                           value=2e-05,\n",
    "                                           continuous_update=False, style=style, layout=layout, \n",
    "                                           readout_format='e')\n",
    "sliderDays = IntSlider(description = 'Days in Simulation:', min=2, max=40, step=1, value=10, continuous_update=False, style=style, layout=layout)\n",
    "interact(plotP53Response, maxDays=sliderDays, ATM_ActivationRate=sliderATM_ActivationRate);"
   ]
  },
  {
   "cell_type": "code",
   "execution_count": 31,
   "metadata": {},
   "outputs": [
    {
     "data": {
      "image/png": "[encoded data removed]",
      "text/plain": [
       "<Figure size 432x288 with 1 Axes>"
      ]
     },
     "metadata": {},
     "output_type": "display_data"
    },
    {
     "data": {
      "text/plain": [
       "[<matplotlib.lines.Line2D at 0x7ff36d30c4a8>]"
      ]
     },
     "execution_count": 31,
     "metadata": {},
     "output_type": "execute_result"
    }
   ],
   "source": [
    "r2 = te.loada(modelNoEvents%\"\")\n",
    "\n",
    "parameterList = [\"damDNA\", \"ATMA\"]\n",
    "r2.conservedMoietyAnalysis = True\n",
    "result = np.empty(shape=(0,2))\n",
    "for atmaRate in np.linspace(1e-06, 2e-05, 20): #[1e-06, 2e-06, 3e-06, 4e-06, 5e-06, 6e-06, 7e-06, 8e-06 5e-06, 1e-05, 2e-05]:\n",
    "    r2.resetAll()\n",
    "    r2.kactATM = atmaRate\n",
    "    r2.getSteadyStateValues()\n",
    "    result = np.vstack([result, [atmaRate, r2.damDNA]])\n",
    "te.plotArray(result)"
   ]
  },
  {
   "cell_type": "markdown",
   "metadata": {},
   "source": [
    "### p21 Feedback Loop: Introduction\n",
    "\n",
    "DNA damage need not be irreparable and persistent in order to trigger senescence. Instead, temporary DNA damage is sufficient for senescence as long as the positive feedback loop is maintained between DDR and ROS.\n",
    "\n",
    "#### Will many small IR pulses lead to senescence?\n",
    "If a single pulse of 5 Gy IR is applied to a cell, it should recover. Is the same true for many pulses of 5 Gy? Use the below plot to control the number of IR pulses on the cell, and observe the steady-state values of ROS and DNA damage."
   ]
  },
  {
   "cell_type": "code",
   "execution_count": 124,
   "metadata": {},
   "outputs": [
    {
     "data": {
      "application/vnd.jupyter.widget-view+json": {
       "model_id": "80f4d114e7114637a6e7ef713a4700ea",
       "version_major": 2,
       "version_minor": 0
      },
      "text/html": [
       "<p>Failed to display Jupyter Widget of type <code>interactive</code>.</p>\n",
       "<p>\n",
       "  If you're reading this message in the Jupyter Notebook or JupyterLab Notebook, it may mean\n",
       "  that the widgets JavaScript is still loading. If this message persists, it\n",
       "  likely means that the widgets JavaScript library is either not installed or\n",
       "  not enabled. See the <a href=\"https://ipywidgets.readthedocs.io/en/stable/user_install.html\">Jupyter\n",
       "  Widgets Documentation</a> for setup instructions.\n",
       "</p>\n",
       "<p>\n",
       "  If you're reading this message in another frontend (for example, a static\n",
       "  rendering on GitHub or <a href=\"https://nbviewer.jupyter.org/\">NBViewer</a>),\n",
       "  it may mean that your frontend doesn't currently support widgets.\n",
       "</p>\n"
      ],
      "text/plain": [
       "interactive(children=(IntSlider(value=100, continuous_update=False, description='Days in Simulation:', layout=Layout(width='375px'), max=120, min=10, step=10, style=SliderStyle(description_width='auto')), SelectionSlider(continuous_update=False, description='Number of Pulses:', index=1, layout=Layout(width='375px'), options=(0, 1, 2, 3, 4), style=DescriptionStyle(description_width='auto'), value=1), SelectionSlider(continuous_update=False, description='Days Between Pulses:', index=1, layout=Layout(width='375px'), options=(1, 2, 3, 4, 5, 6, 7, 8, 9, 10), style=DescriptionStyle(description_width='auto'), value=2), Output()), _dom_classes=('widget-interact',))"
      ]
     },
     "metadata": {},
     "output_type": "display_data"
    }
   ],
   "source": [
    "parameterList = [\"ROS\", \"damDNA\"]\n",
    "FIRST_DAY_OF_RADIATION = 2\n",
    "def plotNRadiationPulses(maxDays, n, delay):\n",
    "    plt.figure(figsize=(10,4))\n",
    "    customizePlot(plt, maxDays)\n",
    "\n",
    "    allEvents = \"\"\n",
    "    dayCounter = FIRST_DAY_OF_RADIATION\n",
    "    for i in range(0, n):\n",
    "        allEvents += '''\n",
    "            at time>%d: IR = 5;\n",
    "            at time>%d: IR = 0;\n",
    "        '''%(DAY*dayCounter, DAY*dayCounter + 60)\n",
    "        dayCounter += delay\n",
    "    \n",
    "    p21Model = te.loada(modelNoEvents%(allEvents))\n",
    "    p21Model.irIntensity = 5\n",
    "    \n",
    "    #Plot data\n",
    "    plt.title(\"Effect of %d Pulse%s of IR on ROS\"%(n, 's' if n != 1 else ''))\n",
    "    result = p21Model.simulate(0, DAY*maxDays, 12000, [\"time\"] + parameterList)    \n",
    "    for i in range(0, len(parameterList)):\n",
    "        plt.plot(result[:,0], result[:,i+1], label=parameterList[i])\n",
    "\n",
    "    plt.legend()\n",
    "    plt.show()\n",
    "    \n",
    "\n",
    "sliderPulseCount = SelectionSlider(description = 'Number of Pulses:', \n",
    "                                           options=np.arange(0, 5, 1),\n",
    "                                           value=1,\n",
    "                                           continuous_update=False, style=style, layout=layout)\n",
    "sliderDelay = SelectionSlider(description = 'Days Between Pulses:', \n",
    "                                           options=np.arange(1, 11, 1),\n",
    "                                           value=2,\n",
    "                                           continuous_update=False, style=style, layout=layout)\n",
    "sliderDays = IntSlider(description = 'Days in Simulation:', min=10, max=120, step=10, value=100, continuous_update=False, style=style, layout=layout)\n",
    "interact(plotNRadiationPulses, maxDays=sliderDays, n=sliderPulseCount, delay=sliderDelay);"
   ]
  },
  {
   "cell_type": "markdown",
   "metadata": {},
   "source": [
    "You should see that even 2 pulses of IR is sufficient to trigger senescence. In this way, we can artificially induce the <u>self-sustaining feedback loop between ROS and DNA damage induction/response</u>. However, what happens when the pulses are spaced out? \n",
    "<br>\n",
    "If the 2 pulses are spaced out by 7 or more days, then the cell recovers."
   ]
  },
  {
   "cell_type": "markdown",
   "metadata": {},
   "source": [
    "### p21 Feedback Loop: Role of p21\n",
    "\n",
    "The below plot is the same as above, but it includes p21. Notice how closely p21 follows along the plots of ROS and DNA damage in shape."
   ]
  },
  {
   "cell_type": "code",
   "execution_count": 122,
   "metadata": {
    "scrolled": true
   },
   "outputs": [
    {
     "data": {
      "image/png": "[encoded data removed]",
      "text/plain": [
       "<Figure size 720x288 with 1 Axes>"
      ]
     },
     "metadata": {},
     "output_type": "display_data"
    }
   ],
   "source": [
    "parameterList = [\"ROS\", \"damDNA\", \"p21\"]\n",
    "plotNRadiationPulses(100, 2, 2)"
   ]
  },
  {
   "cell_type": "markdown",
   "metadata": {},
   "source": [
    "#### Reduction of p21 Degradation\n",
    "The previous exercise showed how several pulses of IR could be sufficient for senescence. However, accumulated DNA damage is not the sole reason for the aforementioned feedback loop. As long as DNA damage response foci induction occurs, ROS levels will remain high. \n",
    "<br/>\n",
    "Try reducing the rate at which p21 degrades. What happens to ROS and DNA damage? This plot contains one pulse of 20 Gy IR at day 2 as usual."
   ]
  },
  {
   "cell_type": "code",
   "execution_count": 128,
   "metadata": {},
   "outputs": [
    {
     "data": {
      "application/vnd.jupyter.widget-view+json": {
       "model_id": "5e608ccd8eab48f482906f45b6211985",
       "version_major": 2,
       "version_minor": 0
      },
      "text/html": [
       "<p>Failed to display Jupyter Widget of type <code>interactive</code>.</p>\n",
       "<p>\n",
       "  If you're reading this message in the Jupyter Notebook or JupyterLab Notebook, it may mean\n",
       "  that the widgets JavaScript is still loading. If this message persists, it\n",
       "  likely means that the widgets JavaScript library is either not installed or\n",
       "  not enabled. See the <a href=\"https://ipywidgets.readthedocs.io/en/stable/user_install.html\">Jupyter\n",
       "  Widgets Documentation</a> for setup instructions.\n",
       "</p>\n",
       "<p>\n",
       "  If you're reading this message in another frontend (for example, a static\n",
       "  rendering on GitHub or <a href=\"https://nbviewer.jupyter.org/\">NBViewer</a>),\n",
       "  it may mean that your frontend doesn't currently support widgets.\n",
       "</p>\n"
      ],
      "text/plain": [
       "interactive(children=(IntSlider(value=100, continuous_update=False, description='Days in Simulation:', layout=Layout(width='375px'), max=120, min=10, step=10, style=SliderStyle(description_width='auto')), SelectionSlider(continuous_update=False, description='kdegp21:', index=1, layout=Layout(width='375px'), options=(9e-05, 0.00019, 0.00029), style=DescriptionStyle(description_width='auto'), value=0.00019), Output()), _dom_classes=('widget-interact',))"
      ]
     },
     "metadata": {},
     "output_type": "display_data"
    }
   ],
   "source": [
    "#Reduction of kdegp21\n",
    "parameterList = [\"ROS\", \"damDNA\", \"p21\"]\n",
    "FIRST_DAY_OF_RADIATION = 2\n",
    "def plotP21Degradation(maxDays, kdegp21):\n",
    "    plt.figure(figsize=(10,4))\n",
    "    customizePlot(plt, maxDays)\n",
    "\n",
    "    p21Model = te.loada(modelNoEvents%(defaultEvents))\n",
    "    p21Model.kdegp21 = kdegp21\n",
    "    \n",
    "    #Plot data\n",
    "    plt.title(\"ROS and DNA Damage Progression\")\n",
    "    result = p21Model.simulate(0, DAY*maxDays, 12000, [\"time\"] + parameterList)    \n",
    "    for i in range(0, len(parameterList)):\n",
    "        plt.plot(result[:,0], result[:,i+1], label=parameterList[i])\n",
    "\n",
    "    plt.legend()\n",
    "    plt.show()\n",
    "    \n",
    "\n",
    "sliderP21 = SelectionSlider(description = 'kdegp21:', \n",
    "                                           options=[.00009, .00019, .00029],\n",
    "                                           value=.00019,\n",
    "                                           continuous_update=False, style=style, layout=layout)\n",
    "sliderDays = IntSlider(description = 'Days in Simulation:', min=10, max=120, step=10, value=100, continuous_update=False, style=style, layout=layout)\n",
    "interact(plotP21Degradation, maxDays=sliderDays, kdegp21=sliderP21);"
   ]
  },
  {
   "cell_type": "code",
   "execution_count": null,
   "metadata": {},
   "outputs": [],
   "source": []
  },
  {
   "cell_type": "code",
   "execution_count": null,
   "metadata": {},
   "outputs": [],
   "source": []
  },
  {
   "cell_type": "code",
   "execution_count": null,
   "metadata": {},
   "outputs": [],
   "source": []
  },
  {
   "cell_type": "code",
   "execution_count": null,
   "metadata": {},
   "outputs": [],
   "source": []
  },
  {
   "cell_type": "code",
   "execution_count": null,
   "metadata": {},
   "outputs": [],
   "source": []
  },
  {
   "cell_type": "markdown",
   "metadata": {},
   "source": [
    "Conclusion thesis: \"ROS levels increase in senescent cells as a result of signalling through CDKN1A-GADD45A-MAPK14-GRB2-TGFβ and feed back into DNA damage induction and response, generating a stable, self-sustaining feedback loop\"\n",
    "    "
   ]
  },
  {
   "cell_type": "markdown",
   "metadata": {},
   "source": [
    "Next, let's see how ROS affects DNA damage. TODO"
   ]
  },
  {
   "cell_type": "code",
   "execution_count": 27,
   "metadata": {},
   "outputs": [
    {
     "data": {
      "application/vnd.jupyter.widget-view+json": {
       "model_id": "32e84b91c46d41a390b1aa9d624ad5ba",
       "version_major": 2,
       "version_minor": 0
      },
      "text/html": [
       "<p>Failed to display Jupyter Widget of type <code>interactive</code>.</p>\n",
       "<p>\n",
       "  If you're reading this message in the Jupyter Notebook or JupyterLab Notebook, it may mean\n",
       "  that the widgets JavaScript is still loading. If this message persists, it\n",
       "  likely means that the widgets JavaScript library is either not installed or\n",
       "  not enabled. See the <a href=\"https://ipywidgets.readthedocs.io/en/stable/user_install.html\">Jupyter\n",
       "  Widgets Documentation</a> for setup instructions.\n",
       "</p>\n",
       "<p>\n",
       "  If you're reading this message in another frontend (for example, a static\n",
       "  rendering on GitHub or <a href=\"https://nbviewer.jupyter.org/\">NBViewer</a>),\n",
       "  it may mean that your frontend doesn't currently support widgets.\n",
       "</p>\n"
      ],
      "text/plain": [
       "interactive(children=(IntSlider(value=40, continuous_update=False, description='Days in Simulation:', layout=Layout(width='375px'), max=50, min=2, style=SliderStyle(description_width='auto')), Output()), _dom_classes=('widget-interact',))"
      ]
     },
     "metadata": {},
     "output_type": "display_data"
    }
   ],
   "source": [
    "#What is the effect of DNA damage on ROS and vice versa?\n",
    "\n",
    "#A delay-based plot showing the effect of different levels of radiation on any plot\n",
    "maxDays = 100\n",
    "plotStartDay = 0 #steady state day for most parameters\n",
    "\n",
    "def todoNameThisMethod(param1, param2, maxDays):\n",
    "    plt.figure (figsize=(10,4))\n",
    "    r.resetAll()\n",
    "    r.irIntensity = 2\n",
    "    result = r.simulate(0, DAY*maxDays, 12000, [\"time\", \"ROS\", \"damDNA\"])\n",
    "    plt.plot(result[:,0], result[:,1])\n",
    "    plt.plot(result[:,0], result[:,2])\n",
    "\n",
    "    plt.grid(True)\n",
    "    plt.xticks(getX_LIM(maxDays), getX_TICKS(maxDays))\n",
    "    plt.xlabel(\"Time in Days\")\n",
    "    plt.legend([\"ROS\", \"damDNA\"])\n",
    "    plt.show()\n",
    "    \n",
    "def showAllPlots(maxDays):\n",
    "    perturbRadiationAtSteadyState(\"ROS\", \"damDNA\", maxDays)\n",
    "    \n",
    "sliderDays = IntSlider(description = 'Days in Simulation:', min=2, max=50, step=1, value=40, continuous_update=False, style=style, layout=layout)\n",
    "interact(showAllPlots, maxDays=sliderDays);"
   ]
  },
  {
   "cell_type": "code",
   "execution_count": 15,
   "metadata": {},
   "outputs": [],
   "source": [
    "#Phase portrait\n",
    "# PLOT_SIZE = 50\n",
    "# Y, X = np.mgrid[0:PLOT_SIZE:400j, 0:50:400j]\n",
    "# U, V = np.mgrid[0:PLOT_SIZE:400j, 0:50:400j]\n",
    "# r.resetAll()\n",
    "# for idx in range (400):\n",
    "#     for idy in range (400):\n",
    "#         r.p21 = X[idx,idy]\n",
    "#         r.ROS = Y[idx,idy]\n",
    "#         U[idx,idy] = r[\"p21'\"]\n",
    "#         V[idx,idy] = r[\"ROS'\"]\n",
    "# plt.subplots(1,2, figsize=(8,6))\n",
    "# plt.subplot(111)\n",
    "# plt.xlabel('p21', fontsize='16')\n",
    "# plt.ylabel('ROS', fontsize='16')\n",
    "# plt.streamplot(X, Y, U, V, density=[2, 2])\n",
    "# plt.ylim((0, PLOT_SIZE))\n",
    "# plt.xlim((0, PLOT_SIZE))\n",
    "# plt.show()"
   ]
  },
  {
   "cell_type": "code",
   "execution_count": 16,
   "metadata": {
    "extensions": {
     "jupyter_dashboards": {
      "version": 1,
      "views": {
       "grid_default": {
        "col": 8,
        "height": 16,
        "hidden": false,
        "row": 9,
        "width": 4
       },
       "report_default": {}
      }
     }
    }
   },
   "outputs": [],
   "source": [
    "# #Exercise: Removing parameters from the complete senesence pathway.  \n",
    "# r = te.loada(model)\n",
    "# def rePlot(parameterToRemove):\n",
    "#     r.reset()\n",
    "#     DAY_COUNT = 8\n",
    "    \n",
    "#     #DNA damage -> TP53 -> CDKN1A -> GADD45 -> MAPK14 -> TGFβ -> mitochondrial dysfunction and increased production of ROS -> more DNA damage (cycle continues)\n",
    "#     parameterList = [\"time\", \"p53\", \"p21\", \"GADD45\", \"p38\", \"ROS\"]\n",
    "#     if parameterToRemove in parameterList:\n",
    "#         parameterList.remove(parameterToRemove)\n",
    "#     result = r.simulate(0, DAY*DAY_COUNT, 20000, parameterList)\n",
    "# #     for i in range(0, len(result)):\n",
    "# #         result[i, parameterToRemove] = 0\n",
    "#     X_LIM = np.arange(0, DAY*DAY_COUNT, DAY)\n",
    "#     X_TICKS = [n if n%2==0 else '' for n in np.arange(0, DAY_COUNT, 1)]\n",
    "    \n",
    "# #     plt.figure (figsize=(10,8))\n",
    "#     plt.grid(True)\n",
    "#     plt.interactive(False)\n",
    "#     for i in range(1, len(parameterList)):\n",
    "#         plt.plot(result[:,0], result[:,i])\n",
    "# #     plt.xticks(X_LIM, X_TICKS)\n",
    "#     plt.xlabel(\"Time in Days\")\n",
    "#     parameterList.remove(\"time\")\n",
    "#     plt.legend(parameterList)\n",
    "#     if parameterToRemove == \"Nothing\":\n",
    "#         plt.title(\"Complete Senescence Process\")\n",
    "#     else:\n",
    "#         plt.title(\"Senescence Process without \"+parameterToRemove)\n",
    "\n",
    "#     plt.show(block=True)\n",
    "\n",
    "# #Create toggle buttons\n",
    "# toggle = widgets.ToggleButtons(\n",
    "#     options=[\"Nothing\", \"p53\", \"p21\", \"GADD45\", \"p38\", \"ROS\"],\n",
    "#     description='Parameter to Remove:',\n",
    "#     disabled=False,\n",
    "#     button_style='', # 'success', 'info', 'warning', 'danger' or ''\n",
    "# )\n",
    "# ui = widgets.HBox([toggle])\n",
    "# out = widgets.interactive_output(rePlot, {'parameterToRemove': toggle})\n",
    "# display(ui, out)"
   ]
  },
  {
   "cell_type": "code",
   "execution_count": null,
   "metadata": {},
   "outputs": [],
   "source": []
  },
  {
   "cell_type": "code",
   "execution_count": 17,
   "metadata": {
    "extensions": {
     "jupyter_dashboards": {
      "version": 1,
      "views": {
       "grid_default": {
        "col": 4,
        "height": 9,
        "hidden": false,
        "row": 14,
        "width": 4
       },
       "report_default": {}
      }
     }
    }
   },
   "outputs": [
    {
     "data": {
      "image/png": "[encoded data removed]",
      "text/plain": [
       "<Figure size 432x288 with 1 Axes>"
      ]
     },
     "metadata": {},
     "output_type": "display_data"
    }
   ],
   "source": [
    "#TEMP\n",
    "r.resetAll()\n",
    "DAY_COUNT = 8\n",
    "result = r.simulate(0, DAY*DAY_COUNT, 20000, [\"time\", \"p53\", \"p21\", \"GADD45\", \"p38\", \"ROS\"])\n",
    "r.plot()"
   ]
  },
  {
   "cell_type": "code",
   "execution_count": null,
   "metadata": {
    "extensions": {
     "jupyter_dashboards": {
      "version": 1,
      "views": {
       "grid_default": {
        "hidden": true
       },
       "report_default": {}
      }
     }
    }
   },
   "outputs": [],
   "source": []
  },
  {
   "cell_type": "code",
   "execution_count": 16,
   "metadata": {
    "extensions": {
     "jupyter_dashboards": {
      "version": 1,
      "views": {
       "grid_default": {
        "col": 0,
        "height": 9,
        "hidden": false,
        "row": 9,
        "width": 4
       },
       "report_default": {}
      }
     }
    }
   },
   "outputs": [
    {
     "data": {
      "image/png": "[encoded data removed]",
      "text/plain": [
       "<Figure size 432x288 with 1 Axes>"
      ]
     },
     "metadata": {},
     "output_type": "display_data"
    }
   ],
   "source": []
  },
  {
   "cell_type": "code",
   "execution_count": 42,
   "metadata": {
    "extensions": {
     "jupyter_dashboards": {
      "version": 1,
      "views": {
       "grid_default": {
        "hidden": true
       },
       "report_default": {}
      }
     }
    }
   },
   "outputs": [
    {
     "data": {
      "image/png": "[encoded data removed]",
      "text/plain": [
       "<Figure size 432x288 with 1 Axes>"
      ]
     },
     "metadata": {},
     "output_type": "display_data"
    }
   ],
   "source": [
    "#Temporary plot to track the parameter list\n",
    "r.resetAll()\n",
    "result = r.simulate(0, DAY, 100)\n",
    "r.plot()"
   ]
  },
  {
   "cell_type": "markdown",
   "metadata": {},
   "source": [
    "## Summary\n",
    "\n",
    "- **p21** is necessary for the DDR and ROS feedback loop.\n",
    "- **p38**, when phosphorylated, generates ROS, so it was inhibited to decrease oxidative stress.\n",
    "- **p53** plays a pivotal role in deciding cell fate, but it does not do so alone. Sensor kinases like ATM detect DNA damage then ultimately cause p53 to be able to activate."
   ]
  },
  {
   "cell_type": "markdown",
   "metadata": {},
   "source": [
    "Sources\n",
    "\n",
    "https://www.ncbi.nlm.nih.gov/pmc/articles/PMC3454471/\n",
    "\"Reactive oxygen species (ROS) homeostasis and redox regulation in cellular signaling\"\n",
    "\n",
    "https://pubmed.ncbi.nlm.nih.gov/18206122\n",
    "Matsuzawa A, Ichijo H (2008) Redox control of cell fate by MAP kinase: physiological roles of ASK1-MAP kinase pathway in stress signaling. Biochimica Et Biophysica Acta-General Subjects 1780: 1325–1336.\n",
    "\n",
    "https://pubmed.ncbi.nlm.nih.gov/16288288\n",
    "Greer EL, Brunet A (2005) FOXO transcription factors at the interface between longevity and tumor suppression. Oncogene 24: 7410–7425. [PubMed] [Google Scholar]\n",
    "\n",
    "https://pubmed.ncbi.nlm.nih.gov/18171426\n",
    "Greer EL, Brunet A (2008) FOXO transcription factors in ageing and cancer. Acta Physiologica 192: 19–28. [PubMed] [Google Scholar]\n",
    "    \n",
    "https://pubmed.ncbi.nlm.nih.gov/14976264\n",
    "Brunet A, Sweeney LB, Sturgill JF, Chua KF, Greer PL, et al. (2004) Stress-dependent regulation of FOXO transcription factors by the SIRT1 deacetylase. Science 303: 2011–2015.\n",
    "\n",
    "https://www.ncbi.nlm.nih.gov/pmc/articles/PMC8533283/\n",
    "Robert H. Whitaker and Jeanette Gowen Cook\n",
    "\n",
    "Pabla, N. & Dong, Z. Cisplatin nephrotoxicity: mechanisms and renoprotective strategies. Kidney Int 73, 994–1007, https://doi.org/10.1038/sj.ki.5002786 (2008).\n",
    "\n",
    "Aubrey et al.\n",
    "https://www.nature.com/articles/cdd2017169)\n",
    "\n",
    "Trino et al.\n",
    "https://www.frontiersin.org/articles/10.3389/fphar.2016.00491/full OR https://doi.org/10.3389/fphar.2016.00491\n",
    "\n",
    "Tamura et al.\n",
    "https://www.ncbi.nlm.nih.gov/pmc/articles/PMC3797964/\n",
    "\n",
    "https://pubmed.ncbi.nlm.nih.gov/12897450\n",
    "Torres and Forman, 2003"
   ]
  },
  {
   "cell_type": "code",
   "execution_count": null,
   "metadata": {},
   "outputs": [],
   "source": []
  }
 ],
 "metadata": {
  "extensions": {
   "jupyter_dashboards": {
    "activeView": "grid_default",
    "version": 1,
    "views": {
     "grid_default": {
      "cellMargin": 10,
      "defaultCellHeight": 20,
      "maxColumns": 12,
      "name": "grid",
      "type": "grid"
     },
     "report_default": {
      "name": "report",
      "type": "report"
     }
    }
   }
  },
  "kernelspec": {
   "display_name": "Python 3.6",
   "language": "python",
   "name": "python3"
  },
  "language_info": {
   "codemirror_mode": {
    "name": "ipython",
    "version": 3
   },
   "file_extension": ".py",
   "mimetype": "text/x-python",
   "name": "python",
   "nbconvert_exporter": "python",
   "pygments_lexer": "ipython3",
   "version": "3.6.5"
  }
 },
 "nbformat": 4,
 "nbformat_minor": 2
}
