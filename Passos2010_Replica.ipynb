{
 "cells": [
  {
   "cell_type": "code",
   "execution_count": 2,
   "metadata": {
    "extensions": {
     "jupyter_dashboards": {
      "version": 1,
      "views": {
       "grid_default": {
        "hidden": true
       },
       "report_default": {}
      }
     }
    }
   },
   "outputs": [],
   "source": [
    "import tellurium as te\n",
    "import matplotlib.pyplot as plt\n",
    "import numpy as np\n",
    "from ipywidgets import *"
   ]
  },
  {
   "cell_type": "markdown",
   "metadata": {},
   "source": [
    "# A Guide to Senescence and the Feedback Loop Between DNA Damage Response Foci and Reactive Oxygen Species\n",
    "\n",
    "### Why Senescence Happens\n",
    "Senescence is an irreversible loss of replication and growth potential for a cell. Thus, senescence can halt a tumor cell while still leaving the cell viable and metabolically active (<a href=\"https://onlinelibrary.wiley.com/doi/pdf/10.1111/cas.13184\">Watanabe et al, 2017</a>). At the same time, the senescence stress response causes the hallmarks of aging, such as genomic instability, telomere attrition, such as mitochondrial dysfunction (<a href=\"https://doi.org/10.1083%2Fjcb.201708092\">McHugh and Gil, 2018</a>). Similarly, senescent cells are more abundant in age-related diseases such as atherosclerosis and diabetes (<a href=\"https://doi.org/10.1038%2Fmsb.2010.5\">Passos et al, 2010</a>). \n",
    "\n",
    "There are several ways senescence can occur:\n",
    "- <b>Exogenous DNA damage:</b> For *in vitro* experiments, this is caused exogenously by ionizing radiation (IR). UV light is also capable of DNA damage.\n",
    "- <b>Endogenous DNA damage:</b> *In vivo*, uncapped telomeres, double strand breaks, or accumulation of reactive oxygen species (ROS) will trigger DNA damage response (DDR).\n",
    "    - <b>Short/uncapped telomeres:</b> When a cell divides, the repeat sequences of DNA at the end of each chromosome, called telomeres, are not replicated perfectly and thus erode after many divisions. If telomeres are too short, the DNA is more vulnerable to further damage, so the cell must senesce. \n",
    "    - <b>ROS:</b> Mitrochondrial oxidative metabolism, xenobiotics, cytokines, and bacterial invasion are just a few sources of ROS (<a href=\"https://www.ncbi.nlm.nih.gov/pmc/articles/PMC3454471/\">Ray et al, 2012</a>). However, as we will see, DDR can also increase ROS.\n",
    "\n",
    "<p>For this model, Passos et al. focus on applying IR *in vitro*. However, endogenous factors are more closely associated with aging.</p>"
   ]
  },
  {
   "cell_type": "markdown",
   "metadata": {},
   "source": [
    "## Learning objectives\n",
    "\n",
    "By the end of this app, you should be able to...\n",
    "- Understand the positive feedback loop between DNA damage response and ROS that is necessary for cellular senescence\n",
    "- Describe the relationships between the proteins that control or lead to senescence\n",
    "- Suggest the consequences of senescence and its feedback loop\n",
    "- Distinguish 3 possible cell fates: senescence, apoptosis, and restored function by discussing the conditions necessary for each\n",
    "\n",
    "## How to Use This App\n",
    "\n",
    "Unless stated otherwise, all information in this app and the code behind the model comes from the paper titled \"Feedback between p21 and reactive oxygen production is necessary for cell senescence\" by Passos et al..\n",
    "<br/>\n",
    "Each exercise includes a date slider like this one. Use these to zoom in or out on plots. These sliders will not affect the results of simulations but rather how they are displayed."
   ]
  },
  {
   "cell_type": "code",
   "execution_count": 3,
   "metadata": {},
   "outputs": [
    {
     "data": {
      "application/vnd.jupyter.widget-view+json": {
       "model_id": "3d79751c7f044455bfa7fc735a5ea3cf",
       "version_major": 2,
       "version_minor": 0
      },
      "text/html": [
       "<p>Failed to display Jupyter Widget of type <code>IntSlider</code>.</p>\n",
       "<p>\n",
       "  If you're reading this message in the Jupyter Notebook or JupyterLab Notebook, it may mean\n",
       "  that the widgets JavaScript is still loading. If this message persists, it\n",
       "  likely means that the widgets JavaScript library is either not installed or\n",
       "  not enabled. See the <a href=\"https://ipywidgets.readthedocs.io/en/stable/user_install.html\">Jupyter\n",
       "  Widgets Documentation</a> for setup instructions.\n",
       "</p>\n",
       "<p>\n",
       "  If you're reading this message in another frontend (for example, a static\n",
       "  rendering on GitHub or <a href=\"https://nbviewer.jupyter.org/\">NBViewer</a>),\n",
       "  it may mean that your frontend doesn't currently support widgets.\n",
       "</p>\n"
      ],
      "text/plain": [
       "IntSlider(value=40, continuous_update=False, description='Days in Simulation:', layout=Layout(width='375px'), max=60, min=2, style=SliderStyle(description_width='auto'))"
      ]
     },
     "metadata": {},
     "output_type": "display_data"
    }
   ],
   "source": [
    "style = {'description_width': 'auto'}\n",
    "layout = {'width': '375px'}\n",
    "display( IntSlider(description = 'Days in Simulation:', min=2, max=60, step=1, value=40, continuous_update=False, style=style, layout=layout) )"
   ]
  },
  {
   "cell_type": "markdown",
   "metadata": {},
   "source": [
    "## Introduction\n",
    "\n",
    "Senescence requires the activation of a feedback loop between DDR and ROS production. If the feedback loop continues for long enough, senescence becomes irreversible. "
   ]
  },
  {
   "cell_type": "code",
   "execution_count": 4,
   "metadata": {
    "extensions": {
     "jupyter_dashboards": {
      "version": 1,
      "views": {
       "grid_default": {
        "hidden": true
       },
       "report_default": {}
      }
     }
    }
   },
   "outputs": [],
   "source": [
    "modelNoEvents = '''\n",
    "// Created by libAntimony v2.11.0\n",
    "model *Passos2010_DNAdamage_CellularSenescence()\n",
    "\n",
    "  // Compartments and Species:\n",
    "  compartment cell;\n",
    "  substanceOnly species Mdm2 in cell, p53 in cell, Mdm2_p53 in cell, Mdm2_mRNA in cell;\n",
    "  substanceOnly species p53_mRNA in cell, ATMA in cell, ATMI in cell, p21 in cell;\n",
    "  substanceOnly species p21_mRNA in cell, p21step1 in cell, p21step2 in cell;\n",
    "  substanceOnly species p53_P in cell, Mdm2_P in cell, p21_basal in cell;\n",
    "  substanceOnly species p38 in cell, p38_P in cell, GADD45 in cell, IR in cell;\n",
    "  substanceOnly species damDNA in cell, ROS in cell, basalROS in cell, $Sink in cell;\n",
    "  substanceOnly species $Source in cell;\n",
    "\n",
    "  // Reactions:\n",
    "  p53mRNASynthesis: $Source => p53_mRNA; ksynp53mRNA*Source;\n",
    "  p53mRNADegradation: p53_mRNA => $Sink; kdegp53mRNA*p53_mRNA;\n",
    "  Mdm2Synthesis: Mdm2_mRNA => Mdm2_mRNA + Mdm2; ksynMdm2*Mdm2_mRNA;\n",
    "  Mdm2mRNASynthesis1: p53 => p53 + Mdm2_mRNA; ksynMdm2mRNA*p53;\n",
    "  Mdm2mRNASynthesis2: p53_P => p53_P + Mdm2_mRNA; ksynMdm2mRNA*p53_P;\n",
    "  Mdm2mRNADegradation: Mdm2_mRNA => $Sink; kdegMdm2mRNA*Mdm2_mRNA;\n",
    "  Mdm2Degradation: Mdm2 => $Sink; kdegMdm2*Mdm2;\n",
    "  p53Synthesis: p53_mRNA => p53 + p53_mRNA; ksynp53*p53_mRNA;\n",
    "  p53Degradation: Mdm2_p53 => Mdm2; kdegp53*Mdm2_p53;\n",
    "  p53Mdm2IndepDegradation1: p53_P => $Sink; kdegp53mdm2ind*p53_P;\n",
    "  p53Mdm2IndepDegradation2: p53 => $Sink; kdegp53mdm2ind*p53;\n",
    "  P53_Mdm2Binding: p53 + Mdm2 => Mdm2_p53; kbinMdm2p53*p53*Mdm2;\n",
    "  P53_Mdm2Release: Mdm2_p53 => p53 + Mdm2; krelMdm2p53*Mdm2_p53;\n",
    "  DNAdamage: IR => IR + damDNA; kdam*IR;\n",
    "  DNArepair: damDNA => $Sink; krepair*damDNA;\n",
    "  ATMactivation: damDNA + ATMI => damDNA + ATMA; kactATM*damDNA*ATMI;\n",
    "  p53phoshorylation: p53 + ATMA => p53_P + ATMA; kphosp53*p53*ATMA;\n",
    "  p53dephosorylation: p53_P => p53; kdephosp53*p53_P;\n",
    "  Mdm2phoshorylation: Mdm2 + ATMA => Mdm2_P + ATMA; kphosMdm2*Mdm2*ATMA;\n",
    "  Mdm2dephosorylation: Mdm2_P => Mdm2; kdephosMdm2*Mdm2_P;\n",
    "  Mdm2Pdegradation: Mdm2_P => $Sink; kdegATMMdm2*Mdm2_P;\n",
    "  ATMInactivation: ATMA => ATMI; kinactATM*ATMA;\n",
    "  p21mRNASynthesis1: p53 => p53 + p21_mRNA; ksynp21mRNAp53*p53;\n",
    "  p21mRNASynthesis2: p53_P => p53_P + p21_mRNA; ksynp21mRNAp53P*p53_P;\n",
    "  p21mRNADegradation: p21_mRNA => $Sink; kdegp21mRNA*p21_mRNA;\n",
    "  p21Synthesis1: p21_mRNA => p21_mRNA + p21step1; ksynp21step1*p21_mRNA;\n",
    "  p21Synthesis2: p21step1 => p21step2; ksynp21step2*p21step1;\n",
    "  p21Synthesis3: p21step2 => p21; ksynp21step3*p21step2;\n",
    "  p21degradation: p21 => $Sink; kdegp21*p21;\n",
    "  GADD45activation2: p21 => p21 + GADD45; kGADD45*p21;\n",
    "  GADD45degradation: GADD45 => $Sink; kdegGADD45*GADD45;\n",
    "  p38activation: p38 + GADD45 => p38_P + GADD45; kphosp38*p38*GADD45;\n",
    "  p38inactivation: p38_P => p38; kdephosp38*p38_P;\n",
    "  ROSgenerationP38: p38_P => p38_P + ROS; kgenROSp38*p38_P*kp38ROS; //one therapy for this is p38 inhibition\n",
    "  ROSremoval: ROS => $Sink; kremROS*ROS;\n",
    "  ROSDNAdamage: ROS => ROS + damDNA; kdamROS*ROS;\n",
    "  basalROSDNAdamage: basalROS => basalROS + damDNA; kdamBasalROS*basalROS;\n",
    "  #Chain: p21 activates GADD45, GADD45 phosphoralizes p38, p38_P makes ROS.\n",
    "\n",
    "  // Events:\n",
    "  %s\n",
    "\n",
    "  // Species initializations:\n",
    "  Mdm2 = 5/cell;\n",
    "  p53 = 5/cell;\n",
    "  Mdm2_p53 = 95/cell;\n",
    "  Mdm2_mRNA = 10/cell;\n",
    "  p53_mRNA = 10/cell;\n",
    "  ATMA = 0;\n",
    "  ATMI = 200/cell;\n",
    "  p21 = 0;\n",
    "  p21_mRNA = 1/cell;\n",
    "  p21step1 = 0;\n",
    "  p21step2 = 0;\n",
    "  p53_P = 0;\n",
    "  Mdm2_P = 0;\n",
    "  p21_basal = 7/cell;\n",
    "  p38 = 100/cell;\n",
    "  p38_P = 0;\n",
    "  GADD45 = 0;\n",
    "  IR = 0;\n",
    "  damDNA = 0;\n",
    "  ROS = 0;\n",
    "  basalROS = 10/cell;\n",
    "  Sink = 1/cell;\n",
    "  Source = 1/cell;\n",
    "\n",
    "  // Compartment initializations:\n",
    "  cell = 1;\n",
    "\n",
    "  // Variable initializations:\n",
    "  kp38ROS = 1;\n",
    "  ksynMdm2 = 0.000495;\n",
    "  kdegMdm2 = 0.000433;\n",
    "  ksynp53 = 0.006;\n",
    "  kdegp53 = 0.000825;\n",
    "  kdegp53mdm2ind = 8.25e-07;\n",
    "  kbinMdm2p53 = 0.001155;\n",
    "  krelMdm2p53 = 1.155e-06;\n",
    "  ksynMdm2mRNA = 0.0001;\n",
    "  kdegMdm2mRNA = 0.0001;\n",
    "  kactATM = 2e-05;\n",
    "  kdegATMMdm2 = 0.0004;\n",
    "  kinactATM = 0.0005;\n",
    "  kphosp53 = 0.006;\n",
    "  kdephosp53 = 0.5;\n",
    "  kphosMdm2 = 2;\n",
    "  kdephosMdm2 = 0.5;\n",
    "  kphosp38 = 0.008;\n",
    "  kdephosp38 = 0.1;\n",
    "  kdam = 0.007; #rate of damage by ROS\n",
    "  krepair = 6e-05;\n",
    "  kGADD45 = 4e-06;\n",
    "  kdegGADD45 = 1e-05;\n",
    "  ksynp53mRNA = 0.001;\n",
    "  kdegp53mRNA = 0.0001;\n",
    "  ksynp21mRNAp53P = 6e-06;\n",
    "  ksynp21mRNAp53 = 6e-08;\n",
    "  kdegp21mRNA = 2.4e-05;\n",
    "  ksynp21step1 = 0.0004;\n",
    "  ksynp21step2 = 4e-05;\n",
    "  ksynp21step3 = 4e-05;\n",
    "  kdegp21 = 0.00019;\n",
    "  kremROS = 0.000383;\n",
    "  kgenROSp38 = 0.00045;\n",
    "  kdamROS = 1e-05;\n",
    "  kdamBasalROS = 1e-09;\n",
    "\n",
    "  // Other declarations:\n",
    "  var kp38ROS;\n",
    "  const cell, ksynMdm2, kdegMdm2, ksynp53, kdegp53, kdegp53mdm2ind, kbinMdm2p53;\n",
    "  const krelMdm2p53, ksynMdm2mRNA, kdegMdm2mRNA, kactATM, kdegATMMdm2, kinactATM;\n",
    "  const kphosp53, kdephosp53, kphosMdm2, kdephosMdm2, kphosp38, kdephosp38;\n",
    "  const kdam, krepair, kGADD45, kdegGADD45, ksynp53mRNA, kdegp53mRNA, ksynp21mRNAp53P;\n",
    "  const ksynp21mRNAp53, kdegp21mRNA, ksynp21step1, ksynp21step2, ksynp21step3;\n",
    "  const kdegp21, kremROS, kgenROSp38, kdamROS, kdamBasalROS;\n",
    "\n",
    "  // Unit definitions:\n",
    "  unit substance = item;\n",
    "\n",
    "  // SBO terms:\n",
    "  cell.sboTerm = 290\n",
    "  Mdm2.sboTerm = 245\n",
    "  p53.sboTerm = 245\n",
    "  Mdm2_p53.sboTerm = 296\n",
    "  Mdm2_mRNA.sboTerm = 278\n",
    "  p53_mRNA.sboTerm = 278\n",
    "  ATMA.sboTerm = 245\n",
    "  ATMI.sboTerm = 245\n",
    "  p21.sboTerm = 245\n",
    "  p21_mRNA.sboTerm = 278\n",
    "  p21step1.sboTerm = 245\n",
    "  p21step2.sboTerm = 245\n",
    "  p53_P.sboTerm = 245\n",
    "  Mdm2_P.sboTerm = 245\n",
    "  p21_basal.sboTerm = 245\n",
    "  p38.sboTerm = 245\n",
    "  p38_P.sboTerm = 245\n",
    "  GADD45.sboTerm = 245\n",
    "  IR.sboTerm = 405\n",
    "  damDNA.sboTerm = 251\n",
    "  ROS.sboTerm = 327\n",
    "  basalROS.sboTerm = 327\n",
    "  Sink.sboTerm = 291\n",
    "  Source.sboTerm = 291\n",
    "  kp38ROS.sboTerm = 9\n",
    "  ksynMdm2.sboTerm = 9\n",
    "  kdegMdm2.sboTerm = 356\n",
    "  ksynp53.sboTerm = 9\n",
    "  kdegp53.sboTerm = 356\n",
    "  kdegp53mdm2ind.sboTerm = 282\n",
    "  kbinMdm2p53.sboTerm = 337\n",
    "  krelMdm2p53.sboTerm = 282\n",
    "  ksynMdm2mRNA.sboTerm = 9\n",
    "  kdegMdm2mRNA.sboTerm = 282\n",
    "  kactATM.sboTerm = 363\n",
    "  kdegATMMdm2.sboTerm = 356\n",
    "  kinactATM.sboTerm = 349\n",
    "  kphosp53.sboTerm = 9\n",
    "  kdephosp53.sboTerm = 9\n",
    "  kdephosMdm2.sboTerm = 9\n",
    "  kphosp38.sboTerm = 9\n",
    "  kdephosp38.sboTerm = 9\n",
    "  kdam.sboTerm = 9\n",
    "  krepair.sboTerm = 9\n",
    "  kGADD45.sboTerm = 9\n",
    "  kdegGADD45.sboTerm = 356\n",
    "  ksynp53mRNA.sboTerm = 9\n",
    "  kdegp53mRNA.sboTerm = 356\n",
    "  ksynp21mRNAp53.sboTerm = 9\n",
    "  kdegp21mRNA.sboTerm = 356\n",
    "  ksynp21step1.sboTerm = 9\n",
    "  ksynp21step2.sboTerm = 9\n",
    "  ksynp21step3.sboTerm = 9\n",
    "  kdegp21.sboTerm = 356\n",
    "  kremROS.sboTerm = 356\n",
    "  kgenROSp38.sboTerm = 9\n",
    "  kdamROS.sboTerm = 9\n",
    "  kdamBasalROS.sboTerm = 9\n",
    "  p53mRNASynthesis.sboTerm = 183\n",
    "  p53mRNADegradation.sboTerm = 179\n",
    "  Mdm2Synthesis.sboTerm = 184\n",
    "  Mdm2mRNASynthesis1.sboTerm = 183\n",
    "  Mdm2mRNASynthesis2.sboTerm = 183\n",
    "  Mdm2mRNADegradation.sboTerm = 179\n",
    "  Mdm2Degradation.sboTerm = 179\n",
    "  p53Synthesis.sboTerm = 184\n",
    "  p53Degradation.sboTerm = 179\n",
    "  p53Mdm2IndepDegradation1.sboTerm = 179\n",
    "  p53Mdm2IndepDegradation2.sboTerm = 179\n",
    "  P53_Mdm2Binding.sboTerm = 526\n",
    "  P53_Mdm2Release.sboTerm = 180\n",
    "  DNAdamage.sboTerm = 375\n",
    "  DNArepair.sboTerm = 179\n",
    "  ATMactivation.sboTerm = 176\n",
    "  p53phoshorylation.sboTerm = 216\n",
    "  p53dephosorylation.sboTerm = 216\n",
    "  Mdm2phoshorylation.sboTerm = 216\n",
    "  Mdm2dephosorylation.sboTerm = 330\n",
    "  Mdm2Pdegradation.sboTerm = 179\n",
    "  ATMInactivation.sboTerm = 176\n",
    "  p21mRNASynthesis1.sboTerm = 183\n",
    "  p21mRNASynthesis2.sboTerm = 183\n",
    "  p21mRNADegradation.sboTerm = 179\n",
    "  p21Synthesis1.sboTerm = 184\n",
    "  p21Synthesis2.sboTerm = 184\n",
    "  p21Synthesis3.sboTerm = 184\n",
    "  p21degradation.sboTerm = 179\n",
    "  GADD45activation2.sboTerm = 176\n",
    "  GADD45degradation.sboTerm = 179\n",
    "  p38activation.sboTerm = 176\n",
    "  p38inactivation.sboTerm = 176\n",
    "  ROSgenerationP38.sboTerm = 393\n",
    "  ROSremoval.sboTerm = 179\n",
    "  ROSDNAdamage.sboTerm = 176\n",
    "  basalROSDNAdamage.sboTerm = 176\n",
    "\n",
    "  // CV terms:\n",
    "  cell hypernym \"http://identifiers.org/go/GO:0005623\"\n",
    "  Mdm2 hypernym \"http://identifiers.org/uniprot/Q00987\"\n",
    "  p53 hypernym \"http://identifiers.org/uniprot/P04637\"\n",
    "  Mdm2_p53 part \"http://identifiers.org/uniprot/Q00987\",\n",
    "                \"http://identifiers.org/uniprot/P04637\"\n",
    "  Mdm2_mRNA encodement \"http://identifiers.org/uniprot/Q00987\"\n",
    "  p53_mRNA encodement \"http://identifiers.org/uniprot/P04637\"\n",
    "  ATMA hypernym \"http://identifiers.org/uniprot/Q13315\"\n",
    "  ATMI hypernym \"http://identifiers.org/uniprot/Q13315\"\n",
    "  p21 hypernym \"http://identifiers.org/uniprot/P38936\"\n",
    "  p21_mRNA encodement \"http://identifiers.org/uniprot/P38936\"\n",
    "  p21step1 hypernym \"http://identifiers.org/uniprot/P38936\"\n",
    "  p21step2 hypernym \"http://identifiers.org/uniprot/P38936\"\n",
    "  p53_P hypernym \"http://identifiers.org/uniprot/P04637\"\n",
    "  Mdm2_P hypernym \"http://identifiers.org/uniprot/Q00987\"\n",
    "  p21_basal hypernym \"http://identifiers.org/uniprot/P38936\"\n",
    "  p38 hypernym \"http://identifiers.org/uniprot/Q16539\"\n",
    "  p38_P hypernym \"http://identifiers.org/uniprot/Q16539\"\n",
    "  GADD45 part \"http://identifiers.org/uniprot/P24522\",\n",
    "              \"http://identifiers.org/uniprot/O75293\",\n",
    "              \"http://identifiers.org/uniprot/O95257\"\n",
    "  damDNA hypernym \"http://identifiers.org/chebi/CHEBI:16991\"\n",
    "  ROS hypernym \"http://identifiers.org/chebi/CHEBI:26523\"\n",
    "  basalROS hypernym \"http://identifiers.org/chebi/CHEBI:26523\"\n",
    "  p53mRNASynthesis parthood \"http://identifiers.org/go/GO:0006351\"\n",
    "  p53mRNADegradation hypernym \"http://identifiers.org/go/GO:0009056\"\n",
    "  Mdm2Synthesis hypernym \"http://identifiers.org/go/GO:0006412\"\n",
    "  Mdm2mRNASynthesis1 hypernym \"http://identifiers.org/go/GO:0006351\"\n",
    "  Mdm2mRNASynthesis2 hypernym \"http://identifiers.org/go/GO:0006351\"\n",
    "  Mdm2mRNADegradation hypernym \"http://identifiers.org/go/GO:0009056\"\n",
    "  Mdm2Degradation hypernym \"http://identifiers.org/go/GO:0009056\"\n",
    "  p53Synthesis hypernym \"http://identifiers.org/go/GO:0006412\"\n",
    "  p53Degradation hypernym \"http://identifiers.org/go/GO:0009056\"\n",
    "  p53Mdm2IndepDegradation1 hypernym \"http://identifiers.org/go/GO:0009056\"\n",
    "  p53Mdm2IndepDegradation2 hypernym \"http://identifiers.org/go/GO:0009056\"\n",
    "  P53_Mdm2Binding hypernym \"http://identifiers.org/go/GO:0006461\"\n",
    "  P53_Mdm2Release hypernym \"http://identifiers.org/go/GO:0043241\"\n",
    "  DNAdamage hypernym \"http://identifiers.org/go/GO:0006950\"\n",
    "  DNArepair hypernym \"http://identifiers.org/go/GO:0006281\"\n",
    "  ATMactivation parthood \"http://identifiers.org/go/GO:0006974\"\n",
    "  p53phoshorylation hypernym \"http://identifiers.org/go/GO:0016310\"\n",
    "  p53dephosorylation hypernym \"http://identifiers.org/go/GO:0016310\"\n",
    "  Mdm2phoshorylation hypernym \"http://identifiers.org/go/GO:0016310\"\n",
    "  Mdm2dephosorylation hypernym \"http://identifiers.org/go/GO:0016311\"\n",
    "  Mdm2Pdegradation hypernym \"http://identifiers.org/go/GO:0009056\"\n",
    "  ATMInactivation hypernym \"http://identifiers.org/go/GO:0006464\"\n",
    "  p21mRNASynthesis1 hypernym \"http://identifiers.org/go/GO:0006351\"\n",
    "  p21mRNASynthesis2 hypernym \"http://identifiers.org/go/GO:0006351\"\n",
    "  p21mRNADegradation hypernym \"http://identifiers.org/go/GO:0009056\"\n",
    "  p21Synthesis1 hypernym \"http://identifiers.org/go/GO:0006412\"\n",
    "  p21Synthesis2 hypernym \"http://identifiers.org/go/GO:0006412\"\n",
    "  p21Synthesis3 hypernym \"http://identifiers.org/go/GO:0006412\"\n",
    "  p21degradation hypernym \"http://identifiers.org/go/GO:0009056\"\n",
    "  GADD45activation2 hypernym \"http://identifiers.org/go/GO:0006412\"\n",
    "  GADD45degradation hypernym \"http://identifiers.org/go/GO:0009056\"\n",
    "  p38activation hypernym \"http://identifiers.org/go/GO:0006464\"\n",
    "  p38inactivation hypernym \"http://identifiers.org/go/GO:0006464\"\n",
    "  ROSgenerationP38 hypernym \"http://identifiers.org/go/GO:0052064\"\n",
    "  ROSremoval hypernym \"http://identifiers.org/go/GO:0009056\"\n",
    "  ROSDNAdamage hypernym \"http://identifiers.org/go/GO:0034614\"\n",
    "  basalROSDNAdamage hypernym \"http://identifiers.org/go/GO:0034614\"\n",
    "end\n",
    "\n",
    "Passos2010_DNAdamage_CellularSenescence is \"Passos2010_DNAdamage_CellularSenescence\"\n",
    "\n",
    "Passos2010_DNAdamage_CellularSenescence model_entity_is \"http://identifiers.org/biomodels.db/MODEL5989624192\"\n",
    "Passos2010_DNAdamage_CellularSenescence model_entity_is \"http://identifiers.org/biomodels.db/BIOMD0000000287\"\n",
    "Passos2010_DNAdamage_CellularSenescence description \"http://identifiers.org/pubmed/20160708\"\n",
    "Passos2010_DNAdamage_CellularSenescence origin \"http://identifiers.org/biomodels.db/BIOMD0000000188\",\n",
    "                                               \"http://identifiers.org/biomodels.db/BIOMD0000000189\"\n",
    "Passos2010_DNAdamage_CellularSenescence parthood \"http://identifiers.org/kegg.pathway/ko05200\"\n",
    "Passos2010_DNAdamage_CellularSenescence taxon \"http://identifiers.org/taxonomy/9606\"\n",
    "Passos2010_DNAdamage_CellularSenescence hypernym \"http://identifiers.org/go/GO:0090398\",\n",
    "                                                 \"http://identifiers.org/go/GO:0006974\"\n",
    "'''\n",
    "defaultEvents = '''\n",
    "  stressCell: at time >= irDoseTime: IR = irIntensity; \n",
    "  stopStress: at time >= irDoseTime + irDoseDuration: IR = 0;\n",
    "  stopp38ROS: at time >= stopp38ROSTime: kp38ROS = kp38ROSInhibitionLevel;\n",
    "  kp38ROSInhibitionLevel = 0.6;\n",
    "  irDoseTime = 172800; //default: day 2\n",
    "  irIntensity = 20; \n",
    "  irDoseDuration = 60; //default: 1 minute later\n",
    "  stopp38ROSTime = 8640000; //default: day 100\n",
    "'''\n",
    "r = te.loada(modelNoEvents%(defaultEvents))\n",
    "\n",
    "DAY = 60*60*24\n",
    "\n",
    "#Helper functions for other plots\n",
    "def getX_LIM(maxDays):\n",
    "    return np.arange(0, maxDays*(DAY+1), DAY)\n",
    "\n",
    "def getX_TICKS(maxDays):\n",
    "    if maxDays >= 60:\n",
    "        tickInterval = 10\n",
    "    elif maxDays >= 40:\n",
    "        tickInterval = 5\n",
    "    else:\n",
    "        tickInterval = 2\n",
    "    return [n if n % tickInterval == 0 else '' for n in np.arange(0, maxDays+tickInterval, 1)]"
   ]
  },
  {
   "cell_type": "markdown",
   "metadata": {},
   "source": [
    "### Plots of p21, p38_P, and p53 in Response to DNA Damage\n",
    "Three proteins, p21, phosphorylated p38 (p38_P), and p53, will be the focus of this model for the sake of simplicity, but they are certainly not the only species involved in senescence. The charts below plot the concentration of each protein and ROS after a DNA damage event at day 2. \n",
    "<br/>\n",
    "For this model, we will artificially impose DNA damage by administering 60 seconds of IR, typically 20 Gy on day 2."
   ]
  },
  {
   "cell_type": "code",
   "execution_count": 5,
   "metadata": {},
   "outputs": [
    {
     "data": {
      "application/vnd.jupyter.widget-view+json": {
       "model_id": "dda39cd63bd041f6933b21698ac5639d",
       "version_major": 2,
       "version_minor": 0
      },
      "text/html": [
       "<p>Failed to display Jupyter Widget of type <code>interactive</code>.</p>\n",
       "<p>\n",
       "  If you're reading this message in the Jupyter Notebook or JupyterLab Notebook, it may mean\n",
       "  that the widgets JavaScript is still loading. If this message persists, it\n",
       "  likely means that the widgets JavaScript library is either not installed or\n",
       "  not enabled. See the <a href=\"https://ipywidgets.readthedocs.io/en/stable/user_install.html\">Jupyter\n",
       "  Widgets Documentation</a> for setup instructions.\n",
       "</p>\n",
       "<p>\n",
       "  If you're reading this message in another frontend (for example, a static\n",
       "  rendering on GitHub or <a href=\"https://nbviewer.jupyter.org/\">NBViewer</a>),\n",
       "  it may mean that your frontend doesn't currently support widgets.\n",
       "</p>\n"
      ],
      "text/plain": [
       "interactive(children=(IntSlider(value=40, continuous_update=False, description='Days in Simulation:', layout=Layout(width='375px'), max=50, min=2, style=SliderStyle(description_width='auto')), Checkbox(value=True, description='Show plots separately', layout=Layout(width='375px'), style=DescriptionStyle(description_width='auto')), Output()), _dom_classes=('widget-interact',))"
      ]
     },
     "metadata": {},
     "output_type": "display_data"
    }
   ],
   "source": [
    "#Exercise: Relationship between one protein and ROS\n",
    "def customizePlot(plt, maxDays):\n",
    "    plt.xticks(getX_LIM(maxDays), getX_TICKS(maxDays))\n",
    "    plt.grid(True)\n",
    "    plt.interactive(False)\n",
    "    plt.xlabel(\"Time in Days\")\n",
    "\n",
    "#Show the growth of one parameter without any scanning.\n",
    "def plotParametersNoPerturb(maxDays, showSeparatePlots):\n",
    "    parameterList = ['p21', 'p38_P', 'p53', 'ROS']\n",
    "\n",
    "    if showSeparatePlots:\n",
    "        fig, axes = plt.subplots(2, 2)\n",
    "        for i in range(0, 4):\n",
    "            subplot = axes.flatten()[i]\n",
    "            subplot.figure.set_size_inches(10, 6)\n",
    "            subplot.grid(True)\n",
    "\n",
    "            plt.subplot(2, 2, i + 1)\n",
    "            customizePlot(plt, maxDays)\n",
    "            plt.ylim(0, 150) #p53 goes to ~145, so we have to include that\n",
    "\n",
    "            #Plot data\n",
    "            parameterName = parameterList[i]\n",
    "            plt.title(parameterName)\n",
    "            r.resetAll()\n",
    "            result = r.simulate(0, DAY*maxDays, 12000, [\"time\", parameterName])\n",
    "            plt.plot(result[:,0], result[:,1])\n",
    "\n",
    "        plt.tight_layout() # makes sure there's no overlap of axes, titles, ticks, etc\n",
    "    else:  \n",
    "        plt.figure (figsize=(10,4))\n",
    "        customizePlot(plt, maxDays)\n",
    "\n",
    "        #Plot data\n",
    "        plt.title(\"Model of DNA Damage Response\")\n",
    "        r.resetAll()\n",
    "        result = r.simulate(0, DAY*maxDays, 12000, [\"time\"] + parameterList)    \n",
    "        for i in range(1,5):\n",
    "            plt.plot(result[:,0], result[:,i], label=parameterList[i-1])\n",
    "\n",
    "        plt.legend()\n",
    "        \n",
    "    plt.show()\n",
    "\n",
    "sliderDays = IntSlider(description = 'Days in Simulation:', min=2, max=50, step=1, value=40, continuous_update=False, style=style, layout=layout)\n",
    "checkboxSeparatePlots = Checkbox(description = 'Show plots separately', value=True, style=style, layout=layout)\n",
    "interact(plotParametersNoPerturb, maxDays = sliderDays, showSeparatePlots=checkboxSeparatePlots);"
   ]
  },
  {
   "cell_type": "markdown",
   "metadata": {},
   "source": [
    "Try zooming in with the slider to see the change in concentrations near the radiation event. p53 has the fastest, most dramatic response to DNA damage. Meanwhile, ROS has a delayed growth. You should also see that the plots of ROS and p38_P trace very closely. We will discuss later why p38_P has the most direct impact on ROS."
   ]
  },
  {
   "cell_type": "markdown",
   "metadata": {},
   "source": [
    "## Radiation Events\n",
    "A certain level of DNA damage is necessary to push ROS into a higher fixed point. Try raising and lowering the intensity of radiation so that more DNA is damaged. Find how much IR is needed to trigger a higher steady-state concentration of ROS."
   ]
  },
  {
   "cell_type": "code",
   "execution_count": 20,
   "metadata": {
    "extensions": {
     "jupyter_dashboards": {
      "version": 1,
      "views": {
       "grid_default": {
        "col": 4,
        "height": 5,
        "hidden": false,
        "row": 0,
        "width": 4
       },
       "report_default": {}
      }
     }
    }
   },
   "outputs": [
    {
     "data": {
      "application/vnd.jupyter.widget-view+json": {
       "model_id": "80de291120d54dc4a400804aa411739b",
       "version_major": 2,
       "version_minor": 0
      },
      "text/html": [
       "<p>Failed to display Jupyter Widget of type <code>interactive</code>.</p>\n",
       "<p>\n",
       "  If you're reading this message in the Jupyter Notebook or JupyterLab Notebook, it may mean\n",
       "  that the widgets JavaScript is still loading. If this message persists, it\n",
       "  likely means that the widgets JavaScript library is either not installed or\n",
       "  not enabled. See the <a href=\"https://ipywidgets.readthedocs.io/en/stable/user_install.html\">Jupyter\n",
       "  Widgets Documentation</a> for setup instructions.\n",
       "</p>\n",
       "<p>\n",
       "  If you're reading this message in another frontend (for example, a static\n",
       "  rendering on GitHub or <a href=\"https://nbviewer.jupyter.org/\">NBViewer</a>),\n",
       "  it may mean that your frontend doesn't currently support widgets.\n",
       "</p>\n"
      ],
      "text/plain": [
       "interactive(children=(IntSlider(value=40, continuous_update=False, description='Days in Simulation:', layout=Layout(width='375px'), min=2, style=SliderStyle(description_width='auto')), IntSlider(value=2, continuous_update=False, description='Day IR is Applied:', layout=Layout(width='375px'), max=30, style=SliderStyle(description_width='auto')), IntSlider(value=5, continuous_update=False, description='IR Intensity:', layout=Layout(width='375px'), style=SliderStyle(description_width='auto')), Output()), _dom_classes=('widget-interact',))"
      ]
     },
     "metadata": {},
     "output_type": "display_data"
    }
   ],
   "source": [
    "#Let user adjust the amount of radiation and see the effect on one parameter\n",
    "parameterName = \"ROS\"\n",
    "\n",
    "def rePlot(maxDays, radiationDay, intensity):\n",
    "    r.resetAll()\n",
    "    \n",
    "    r.irDoseTime = radiationDay * DAY\n",
    "    r.irIntensity = intensity\n",
    "    \n",
    "    result = r.simulate(0, DAY*maxDays, 12000, [\"time\", parameterName])\n",
    "    \n",
    "    # plt.figure (figsize=(10,4))\n",
    "    plt.grid(True)\n",
    "    plt.interactive(False)\n",
    "    dataToPlot = [0]*2\n",
    "    for i in range(0,2):\n",
    "        dataToPlot[i] = result[:,i]\n",
    "    plt.plot(*dataToPlot)\n",
    "    plt.xticks(getX_LIM(maxDays), getX_TICKS(maxDays))\n",
    "    plt.xlabel(\"Time in Days\")\n",
    "    plt.legend([parameterName])\n",
    "    plt.title(\"Effect of Radiation on %s\"%(parameterName))\n",
    "\n",
    "    plt.show(block=True)\n",
    "\n",
    "sliderDays = IntSlider(description = 'Days in Simulation:', min=2, max=100, step=1, value=40, continuous_update=False, style=style, layout=layout)\n",
    "sliderRadiationDay = IntSlider(description = 'Day IR is Applied:', min=0, max=30, step=1, value=2, continuous_update=False, style=style, layout=layout)\n",
    "sliderIntensity = IntSlider(description = 'IR Intensity:', min=0, max=100, step=1, value=5, continuous_update=False, style=style, layout=layout)\n",
    "interact(rePlot, maxDays = sliderDays, radiationDay=sliderRadiationDay, intensity = sliderIntensity);"
   ]
  },
  {
   "cell_type": "markdown",
   "metadata": {},
   "source": [
    "You should have seen that 8 Gy of IR is sufficient to push ROS into a higher steady state. For simplicity, we will treat this higher level of ROS as indicative of senescence, but, in reality, high ROS alone does not guarantee senescence.\n",
    "<br/>\n",
    "Next, we'll see that the DDR proteins increase in quantity as ROS is increased, eventually triggering the positive feedback loop between DDR and ROS. <b>This feedback loop is both necessary and sufficient for senescence</b>, and ROS levels will remain elevated as seen in the higher steady state plot above. Further details about the DDR and ROS feedback loop will be discussed herein.\n",
    "<br/>\n",
    "#### Effect of IR on p21, p38, and p53\n",
    "The following plots show the effects of different amounts of IR on p21, p38, and p53. Each plot begins at day 35 since each protein reaches a steady state by that point, and each simulations is delayed so that they are easier to see."
   ]
  },
  {
   "cell_type": "code",
   "execution_count": 12,
   "metadata": {},
   "outputs": [
    {
     "data": {
      "application/vnd.jupyter.widget-view+json": {
       "model_id": "0b7701702a2a46c9a91f162a570de65f",
       "version_major": 2,
       "version_minor": 0
      },
      "text/html": [
       "<p>Failed to display Jupyter Widget of type <code>interactive</code>.</p>\n",
       "<p>\n",
       "  If you're reading this message in the Jupyter Notebook or JupyterLab Notebook, it may mean\n",
       "  that the widgets JavaScript is still loading. If this message persists, it\n",
       "  likely means that the widgets JavaScript library is either not installed or\n",
       "  not enabled. See the <a href=\"https://ipywidgets.readthedocs.io/en/stable/user_install.html\">Jupyter\n",
       "  Widgets Documentation</a> for setup instructions.\n",
       "</p>\n",
       "<p>\n",
       "  If you're reading this message in another frontend (for example, a static\n",
       "  rendering on GitHub or <a href=\"https://nbviewer.jupyter.org/\">NBViewer</a>),\n",
       "  it may mean that your frontend doesn't currently support widgets.\n",
       "</p>\n"
      ],
      "text/plain": [
       "interactive(children=(Checkbox(value=True, description='Show legend', layout=Layout(width='375px'), style=DescriptionStyle(description_width='auto')), Output()), _dom_classes=('widget-interact',))"
      ]
     },
     "metadata": {},
     "output_type": "display_data"
    }
   ],
   "source": [
    "#A delay-based plot showing the effect of different levels of radiation on any plot\n",
    "maxDays = 100\n",
    "plotStartDay = 35 #steady state day for most parameters\n",
    "\n",
    "def perturbRadiationAtSteadyState(parameterName, showLegend=True):\n",
    "    radiationDay = plotStartDay + 5 #5 is an arbitrary amount of space\n",
    "    plt.figure (figsize=(10,4))\n",
    "    for perturb in np.arange(0.0, 20, 2.0):\n",
    "        r.resetAll()\n",
    "        r.irIntensity=perturb\n",
    "        r.irDoseDuration = 60 #1min\n",
    "        r.irDoseTime = radiationDay * DAY\n",
    "        radiationDay += 2\n",
    "        r.simulate(0, plotStartDay*DAY, 1000, [\"time\", parameterName]) #get to steady state before plotting\n",
    "        m = r.simulate(plotStartDay*DAY, DAY*maxDays, 1000, [\"time\", parameterName])\n",
    "        te.plotArray(m, show=False, title=\"%s Response to Perturbations of IR Intensity\"%(parameterName), resetColorCycle=False, \n",
    "                     labels=['IR = %.1f'%(perturb)] if showLegend else None)\n",
    "\n",
    "    X_LIM = np.arange(plotStartDay*DAY, DAY*maxDays, DAY)\n",
    "    X_TICKS = [n if n % 5==0 else '' for n in np.arange(plotStartDay, maxDays, 1)]\n",
    "    plt.grid(True)\n",
    "    plt.xticks(X_LIM, X_TICKS)\n",
    "    plt.xlabel(\"Time in Days\")\n",
    "    plt.ylabel(\"Concentration of \"+parameterName)\n",
    "    plt.show()\n",
    "    \n",
    "def showAllPlots(showLegend):\n",
    "    perturbRadiationAtSteadyState(\"p21\", showLegend)\n",
    "    perturbRadiationAtSteadyState(\"p38\", showLegend)\n",
    "    perturbRadiationAtSteadyState(\"p53\", showLegend)\n",
    "    \n",
    "checkbox = Checkbox(description = 'Show legend', value=True, style=style, layout=layout)\n",
    "interact(showAllPlots, showLegend=checkbox);"
   ]
  },
  {
   "cell_type": "markdown",
   "metadata": {},
   "source": [
    "#### Observations\n",
    "A spike in a protein's concentration signifies a DNA damage response event, which is rapidly repaired. However, if a protein stays at a high concentration, that may be indicative of the senescence feedback loop.\n",
    "An IR intensity of 12 Gy is sufficient to knock every one of the 3 proteins here into a different steady state. Hence, a high concentration of ROS suggests (but does not necessarily guarantee) senescence. Conversely, low ROS suggests no senescence but possible quiescence (a temporary cease of cellular proliferation). \n",
    "\n",
    "### Decreases in p38 (MAPK14)\n",
    "Of the 3 proteins above, p38 is the only one to decline in response to IR. This is because p38 is phosphorylated to p38_P more quickly in these conditions. High levels of p38, in fact, lead to apoptosis due to the p38-JNK<sup>&#10033;</sup> pathway (<a href=\"https://www.ncbi.nlm.nih.gov/pmc/articles/PMC3797964/\">Tamura et al, 2012</a>).\n",
    "In other words, p38 \"tips the balance\" towards apoptosis in cells stressed by ROS or DNA damage (<a href=\"https://www.ncbi.nlm.nih.gov/pmc/articles/PMC8533283/\">Whitaker and Cook</a>).\n",
    "\n",
    "Generally speaking, p38 is upstream of transforming growth factor-beta (TGFβ), and activation of one or both leads to ROS production (<a href=\"https://pubmed.ncbi.nlm.nih.gov/12897450\">Torres and Forman, 2003</a>; <a href=\"https://pubmed.ncbi.nlm.nih.gov/17961070/\">Koli et al, 2008</a>). At the same time, TGFβ itself induces ROS production for a positive feedback loop (<a href=\"https://pubmed.ncbi.nlm.nih.gov/17961070/\">Koli et al, 2008</a>). Meanwhile, p53 does not directly interact with the mitochondria, but ultimately stimulates ROS production by being upstream of TGFβ (<a href=\"https://doi.org/10.1038%2Fmsb.2010.5\">Passos et al, 2010</a>).\n",
    "\n",
    "<hr style=\"border-color: #AAAAAA\"></hr>\n",
    "\n",
    "&#10033; c-Jun N-terminal kinase (JNK) (<a href=\"https://pubmed.ncbi.nlm.nih.gov/18206122\">Matsuzawa and Ichijo, 2008</a>), when activated by ROS, moves FoxO3a, a transcription factor for CDKN1A, to the nucleus through phosphorylation (<a href=\"https://pubmed.ncbi.nlm.nih.gov/16288288\">Greer and Brunet, 2005</a>;  <a href=\"https://pubmed.ncbi.nlm.nih.gov/18171426\">Greer and Brunet, 2008</a>). FoxO3a then promotes p21, thus controlling cell cycle arrest (<a href=\"https://pubmed.ncbi.nlm.nih.gov/16288288\">Greer and Brunet, 2005</a>; <a href=\"https://pubmed.ncbi.nlm.nih.gov/14976264\"> Brunet and Sweeney, 2004</a>).\n",
    "<br/>\n",
    "&#10033;&#10033; Passos et al. also found that  free radical scavenger PBN and antioxidant treatment by <i>N</i>-acetylcysteine were effective means of rescuing growth arrest, though the latter treatment was tested with a lower dose of 5 Gy of radiation.\n",
    "\n",
    "<hr style=\"border-color: #AAAAAA\"></hr>\n",
    "\n",
    "Given that phosphorylated p38 is capable of generating ROS, let's try inhibitng p38_P. Note that radiation is applied as usual with 20 Gy at day 2. The inhibitor chemical, SB203580, should reduce ROS generation by p38_P to 85% of its normal rate<sup>&#10033;&#10033;</sup>. How early do you need to begin inhibition to disrupt ROS generation?"
   ]
  },
  {
   "cell_type": "code",
   "execution_count": 21,
   "metadata": {},
   "outputs": [
    {
     "data": {
      "application/vnd.jupyter.widget-view+json": {
       "model_id": "2ccba0ff10f6419996236d57beaccdd6",
       "version_major": 2,
       "version_minor": 0
      },
      "text/html": [
       "<p>Failed to display Jupyter Widget of type <code>interactive</code>.</p>\n",
       "<p>\n",
       "  If you're reading this message in the Jupyter Notebook or JupyterLab Notebook, it may mean\n",
       "  that the widgets JavaScript is still loading. If this message persists, it\n",
       "  likely means that the widgets JavaScript library is either not installed or\n",
       "  not enabled. See the <a href=\"https://ipywidgets.readthedocs.io/en/stable/user_install.html\">Jupyter\n",
       "  Widgets Documentation</a> for setup instructions.\n",
       "</p>\n",
       "<p>\n",
       "  If you're reading this message in another frontend (for example, a static\n",
       "  rendering on GitHub or <a href=\"https://nbviewer.jupyter.org/\">NBViewer</a>),\n",
       "  it may mean that your frontend doesn't currently support widgets.\n",
       "</p>\n"
      ],
      "text/plain": [
       "interactive(children=(IntSlider(value=60, continuous_update=False, description='Days in Simulation:', layout=Layout(width='375px'), min=2, style=SliderStyle(description_width='auto')), IntSlider(value=6, continuous_update=False, description='Day to Inhibit p38_P:', layout=Layout(width='375px'), max=20, min=1, style=SliderStyle(description_width='auto')), Output()), _dom_classes=('widget-interact',))"
      ]
     },
     "metadata": {},
     "output_type": "display_data"
    }
   ],
   "source": [
    "#Let user adjust the inhibition of p38, then observe the effect on ROS\n",
    "\n",
    "r = te.loada(modelNoEvents%(defaultEvents))\n",
    "\n",
    "def plotColumn(plt, result):\n",
    "    for i in range(1, 4):\n",
    "        plt.plot(result[:,0], result[:,i])\n",
    "    plt.legend([\"p38_P\", \"ROS\", \"damDNA\"])\n",
    "\n",
    "\n",
    "def getDataWithTherapy(stop_p38_ROS_day, maxDays, kp38ROSInhibitionLevel):\n",
    "    r.resetAll()\n",
    "    r.stopp38ROSTime = stop_p38_ROS_day * DAY\n",
    "    r.kp38ROSInhibitionLevel = kp38ROSInhibitionLevel\n",
    "    \n",
    "    return r.simulate(0, DAY*maxDays, 12000, [\"time\", \"p38_P\", \"ROS\", \"damDNA\"])\n",
    "\n",
    "def getDataControlGroup(maxDays):\n",
    "    r.resetAll()  \n",
    "    r.stopp38ROSTime = maxDays * 2 * DAY #never happens in our view\n",
    "    \n",
    "    return r.simulate(0, DAY*maxDays, 12000, [\"time\", \"p38_P\", \"ROS\", \"damDNA\"])\n",
    "    \n",
    "\n",
    "def plotP38Inhibition(maxDays, stop_p38_ROS_day, kp38ROSInhibitionLevel):\n",
    "    X_LIM = np.arange(0, DAY*maxDays, DAY)\n",
    "    X_TICKS = [n if n%5==0 else '' for n in np.arange(0, maxDays, 1)]\n",
    "        \n",
    "    fig, axes = plt.subplots(1, 2)  # + kwarg arguments https://matplotlib.org/stable/api/_as_gen/matplotlib.pyplot.subplots.html\n",
    "    \n",
    "    for k in range(0, len(axes)):\n",
    "        subplot = axes[k]\n",
    "        subplot.figure.set_size_inches(10, 4)\n",
    "        subplot.grid(True)\n",
    "        \n",
    "        plt.sca(subplot)\n",
    "        plt.interactive(False)\n",
    "        plt.xticks(getX_LIM(maxDays), getX_TICKS(maxDays))\n",
    "        plt.xlabel(\"Time in Days\")\n",
    "        \n",
    "    #Plot data with p38 inhibition\n",
    "    axes[0].set_title(str(100 * kp38ROSInhibitionLevel)+\"% Inhibition of p38_P ROS Generation\")\n",
    "    plt.sca(axes[0])\n",
    "    result = getDataWithTherapy(stop_p38_ROS_day, maxDays, kp38ROSInhibitionLevel)\n",
    "    plotColumn(plt, result)\n",
    "    \n",
    "    #Plot control group data\n",
    "    axes[1].set_title(\"Control Group (No Inhibition of p38_P)\")\n",
    "    plt.sca(axes[1])\n",
    "    result = getDataControlGroup(maxDays)\n",
    "    plotColumn(plt, result)\n",
    "    \n",
    "    plt.tight_layout() # makes sure there's no overlap of axes, titles, ticks, etc\n",
    "    plt.show()\n",
    "\n",
    "def plotP38InhibitionHelper(stop_p38_ROS_day, maxDays):\n",
    "    plotP38Inhibition(stop_p38_ROS_day, maxDays, .6) #60% was used by Passos et al.\n",
    "    \n",
    "style = {'description_width': 'auto'}\n",
    "layout = {'width': '375px'}\n",
    "sliderDays = IntSlider(description = 'Day to Inhibit p38_P:', min=1, max=20, step=1, value=6, continuous_update=False, style=style, layout=layout)\n",
    "sliderStopDay = IntSlider(description = 'Days in Simulation:', min=2, max=100, step=1, value=60, continuous_update=False, style=style, layout=layout)\n",
    "interact(plotP38InhibitionHelper, maxDays = sliderDays, stop_p38_ROS_day=sliderStopDay);"
   ]
  },
  {
   "cell_type": "markdown",
   "metadata": {},
   "source": [
    "This may have been a trick question. ROS indeed decreases upon inhibition p38_P, but, perhaps unexpectedly, this effect can still occur even in deep irreversible senescence weeks after the radiation event. This suggests that the feedback loop between DDR and ROS is still present in deep senescence, and, although the cell's growth arrest may be irreversible, its condition can improve somewhat.\n",
    "\n",
    "We can repeat the same exercise with a weaker inhibitor so that the ROS generation rate falls to 85% instead of 60%. When is it too late to begin inhibition? \n",
    "\n",
    "<b>Disclaimer:</b> According to the model from Passos et al, SB203580 should inhibit MAPK14 by 40%. However, for the purposes of demonstrating both the irreversbility and potential for rescue of senescence, we will be using an inhibition rate of 15% for this exercise. \n",
    "\n",
    "<br/>\n",
    "Here are a few test cases to try for the inhibition start time. Do the cell's ROS and DNA damage levels recover?\n",
    "1. Day 1\n",
    "2. Day 6\n",
    "3. Day 3\n",
    "4. Day 16"
   ]
  },
  {
   "cell_type": "code",
   "execution_count": 23,
   "metadata": {},
   "outputs": [
    {
     "data": {
      "application/vnd.jupyter.widget-view+json": {
       "model_id": "b148a8b4676643808cab1d1b1ce086e5",
       "version_major": 2,
       "version_minor": 0
      },
      "text/html": [
       "<p>Failed to display Jupyter Widget of type <code>interactive</code>.</p>\n",
       "<p>\n",
       "  If you're reading this message in the Jupyter Notebook or JupyterLab Notebook, it may mean\n",
       "  that the widgets JavaScript is still loading. If this message persists, it\n",
       "  likely means that the widgets JavaScript library is either not installed or\n",
       "  not enabled. See the <a href=\"https://ipywidgets.readthedocs.io/en/stable/user_install.html\">Jupyter\n",
       "  Widgets Documentation</a> for setup instructions.\n",
       "</p>\n",
       "<p>\n",
       "  If you're reading this message in another frontend (for example, a static\n",
       "  rendering on GitHub or <a href=\"https://nbviewer.jupyter.org/\">NBViewer</a>),\n",
       "  it may mean that your frontend doesn't currently support widgets.\n",
       "</p>\n"
      ],
      "text/plain": [
       "interactive(children=(IntSlider(value=52, continuous_update=False, description='Days in Simulation:', layout=Layout(width='375px'), min=2, style=SliderStyle(description_width='auto')), IntSlider(value=11, continuous_update=False, description='Day to Inhibit p38_P:', layout=Layout(width='375px'), max=20, min=1, style=SliderStyle(description_width='auto')), Output()), _dom_classes=('widget-interact',))"
      ]
     },
     "metadata": {},
     "output_type": "display_data"
    }
   ],
   "source": [
    "def plotP38InhibitionHelper(stop_p38_ROS_day, maxDays):\n",
    "    plotP38Inhibition(stop_p38_ROS_day, maxDays, .85) #85% is my arbitrary rate\n",
    "\n",
    "interact(plotP38InhibitionHelper, maxDays = sliderDays, stop_p38_ROS_day=sliderStopDay);"
   ]
  },
  {
   "cell_type": "markdown",
   "metadata": {},
   "source": [
    "These are the results you should have seen:\n",
    "1. Day 1: Although this may at first seem too soon, DNA damage is still able to recover adequately and the cell recovers.\n",
    "2. Day 6: This is too late, and the inhibitor is too weak. ROS does not recover, and the cell is senescent.\n",
    "3. Day 3: Starting inhibition a day after radiation works well, and the cell recovers smoothly.\n",
    "4. Day 16: This is also too late."
   ]
  },
  {
   "cell_type": "markdown",
   "metadata": {},
   "source": [
    "### Fast Response of p53\n",
    "\n",
    "We return to p53, the protein which spiked in concentration as soon as IR was applied. p53 is a transcription factor for roughly 500 genes which can, under the right conditions, \"activate diverse cellular effector processes, including cell cycle arrest, cellular senescence, coordination of various DNA damage repair pathways, metabolic adaptation and apoptotic cell death\"<sup>&#10033;</sup> (<a href=\"https://www.nature.com/articles/cdd2017169\">Aubrey et al, 2017</a>).\n",
    "\n",
    "p53 is a transcription factor for Mdm2 (mouse double minute-2), and, when the two bind, p53's transcriptional activity is inhibited, keeping the cell homeostatic (<a href=\"https://doi.org/10.3389/fphar.2016.00491\">Trino et al, 2016</a>). When a cell undergoes stress, Mdm2 is inhibited by ATM and other factors<sup>&#10033;&#10033;</sup>, allowing p53 to decide cell fate (<a href=\"https://www.nature.com/articles/cdd2017169\">Aubrey et al, 2017</a>).\n",
    "\n",
    "Due to this relationship with Mdm2, p53 is *not* the direct result of DNA damage. Rather, sensor kinases  ATM/ATR and DNA-PK activate first (<a href=\"https://doi.org/10.1038%2Fmsb.2010.5\">Passos et al, 2010</a>). Then, ATM \"phosphorylates both p53 and Mdm2 to interrupt their binding.\" Let's look at how ATM activation affects p53. \n",
    "\n",
    "<hr style=\"border-color: #AAAAAA\"></hr>\n",
    "\n",
    "&#10033; High expression of p53 leads to accumulation of PUMA in the mitochondria, which increases its membrane permeability and eventually induces mitochondrial injury for apoptosis (<a href=\"https://doi.org/10.1038/sj.ki.5002786\">Pabla and Dong, 2008</a>). \n",
    "<br/>\n",
    "&#10033;&#10033; Oncogene expressions (e.g. p14/ARF) and other other proteins, namely ATR, CHK1, and CHK2, also inhibit MdM2 (<a href=\"https://www.nature.com/articles/cdd2017169\">Aubrey et al, 2017</a>)."
   ]
  },
  {
   "cell_type": "markdown",
   "metadata": {},
   "source": [
    "#### Relationships between p53, ATM, and Mdm2\n",
    "In the graph below, all proteins respond relatively quickly at the time of DNA damage. The process is as follows:\n",
    "1. damDNA increases at day 2 due to IR.\n",
    "2. ATM activates quickly due to the increase in damDNA\n",
    "3. Activated ATM phosphorylates Mdm2 and p53, preventing them from binding. At the same time, Mdm2_p53 separates into Mdm2 and p53 by release and p53 degradation.\n",
    "4. p53 is also synthesized by its mRNA sequence, so it grows quickly.\n",
    "5. p53 controls the senescence decision. In this case, the cell is senescent due to the elevated p53 levels."
   ]
  },
  {
   "cell_type": "code",
   "execution_count": 24,
   "metadata": {},
   "outputs": [
    {
     "data": {
      "application/vnd.jupyter.widget-view+json": {
       "model_id": "b84600c26f54416bbd28605ff492a92f",
       "version_major": 2,
       "version_minor": 0
      },
      "text/html": [
       "<p>Failed to display Jupyter Widget of type <code>interactive</code>.</p>\n",
       "<p>\n",
       "  If you're reading this message in the Jupyter Notebook or JupyterLab Notebook, it may mean\n",
       "  that the widgets JavaScript is still loading. If this message persists, it\n",
       "  likely means that the widgets JavaScript library is either not installed or\n",
       "  not enabled. See the <a href=\"https://ipywidgets.readthedocs.io/en/stable/user_install.html\">Jupyter\n",
       "  Widgets Documentation</a> for setup instructions.\n",
       "</p>\n",
       "<p>\n",
       "  If you're reading this message in another frontend (for example, a static\n",
       "  rendering on GitHub or <a href=\"https://nbviewer.jupyter.org/\">NBViewer</a>),\n",
       "  it may mean that your frontend doesn't currently support widgets.\n",
       "</p>\n"
      ],
      "text/plain": [
       "interactive(children=(IntSlider(value=10, continuous_update=False, description='Days in Simulation:', layout=Layout(width='375px'), max=40, min=2, style=SliderStyle(description_width='auto')), Output()), _dom_classes=('widget-interact',))"
      ]
     },
     "metadata": {},
     "output_type": "display_data"
    }
   ],
   "source": [
    "#Introduce plot with no parameter changing\n",
    "parameterList = [\"damDNA\", \"p53\", \"ATMA\", \"Mdm2\", \"Mdm2_p53\"]\n",
    "def plotP53Response(maxDays, ATM_ActivationRate):\n",
    "    plt.figure(figsize=(10,4))\n",
    "    customizePlot(plt, maxDays)\n",
    "\n",
    "    #Plot data\n",
    "    plt.title(\"p53, ATM, and Mdm2 Response to DNA Damage\")\n",
    "    r.resetAll()\n",
    "    r.kactATM = ATM_ActivationRate\n",
    "    result = r.simulate(0, DAY*maxDays, 12000, [\"time\"] + parameterList)    \n",
    "    for i in range(0, len(parameterList)):\n",
    "        label = parameterList[i]\n",
    "        if label == \"ATMA\":\n",
    "            label = \"ATM\"\n",
    "        plt.plot(result[:,0], result[:,i+1], label=label)\n",
    "\n",
    "    plt.legend()\n",
    "    plt.show()\n",
    "\n",
    "def defaultPlotP53Response(maxDays):\n",
    "    KACT_ATM = 2e-05\n",
    "    plotP53Response(maxDays, KACT_ATM)\n",
    "    \n",
    "sliderDays = IntSlider(description = 'Days in Simulation:', min=2, max=40, step=1, value=10, continuous_update=False, style=style, layout=layout)\n",
    "interact(defaultPlotP53Response, maxDays=sliderDays);"
   ]
  },
  {
   "cell_type": "markdown",
   "metadata": {},
   "source": [
    "#### What happens when ATM is inhibited? \n",
    "Lower the rate at which inactivated ATM activates response to damDNA. What happens to the rest of the system?"
   ]
  },
  {
   "cell_type": "code",
   "execution_count": 25,
   "metadata": {},
   "outputs": [
    {
     "data": {
      "application/vnd.jupyter.widget-view+json": {
       "model_id": "bde10ad7975543ecbebdef42d319fc30",
       "version_major": 2,
       "version_minor": 0
      },
      "text/html": [
       "<p>Failed to display Jupyter Widget of type <code>interactive</code>.</p>\n",
       "<p>\n",
       "  If you're reading this message in the Jupyter Notebook or JupyterLab Notebook, it may mean\n",
       "  that the widgets JavaScript is still loading. If this message persists, it\n",
       "  likely means that the widgets JavaScript library is either not installed or\n",
       "  not enabled. See the <a href=\"https://ipywidgets.readthedocs.io/en/stable/user_install.html\">Jupyter\n",
       "  Widgets Documentation</a> for setup instructions.\n",
       "</p>\n",
       "<p>\n",
       "  If you're reading this message in another frontend (for example, a static\n",
       "  rendering on GitHub or <a href=\"https://nbviewer.jupyter.org/\">NBViewer</a>),\n",
       "  it may mean that your frontend doesn't currently support widgets.\n",
       "</p>\n"
      ],
      "text/plain": [
       "interactive(children=(IntSlider(value=10, continuous_update=False, description='Days in Simulation:', layout=Layout(width='375px'), max=40, min=2, style=SliderStyle(description_width='auto')), SelectionSlider(continuous_update=False, description='ATM Activation Rate:', index=3, layout=Layout(width='375px'), options=(2.5e-06, 5e-06, 1e-05, 2e-05, 4e-05, 6e-05, 0.00012), style=DescriptionStyle(description_width='auto'), value=2e-05), Output()), _dom_classes=('widget-interact',))"
      ]
     },
     "metadata": {},
     "output_type": "display_data"
    }
   ],
   "source": [
    "#Same plot as above, but user can customize it\n",
    "sliderATM_ActivationRate = SelectionSlider(description = 'ATM Activation Rate:', \n",
    "                                           options=[2.5e-06, 5e-06, 1e-05, 2e-05, 4e-05, 6e-05, 1.2e-04],\n",
    "                                           value=2e-05,\n",
    "                                           continuous_update=False, style=style, layout=layout, \n",
    "                                           readout_format='e')\n",
    "interact(plotP53Response, maxDays=sliderDays, ATM_ActivationRate=sliderATM_ActivationRate);"
   ]
  },
  {
   "cell_type": "code",
   "execution_count": 40,
   "metadata": {},
   "outputs": [
    {
     "data": {
      "application/vnd.jupyter.widget-view+json": {
       "model_id": "f0cd3a8d228f42c8bd9cdecdd5de4dcb",
       "version_major": 2,
       "version_minor": 0
      },
      "text/html": [
       "<p>Failed to display Jupyter Widget of type <code>interactive</code>.</p>\n",
       "<p>\n",
       "  If you're reading this message in the Jupyter Notebook or JupyterLab Notebook, it may mean\n",
       "  that the widgets JavaScript is still loading. If this message persists, it\n",
       "  likely means that the widgets JavaScript library is either not installed or\n",
       "  not enabled. See the <a href=\"https://ipywidgets.readthedocs.io/en/stable/user_install.html\">Jupyter\n",
       "  Widgets Documentation</a> for setup instructions.\n",
       "</p>\n",
       "<p>\n",
       "  If you're reading this message in another frontend (for example, a static\n",
       "  rendering on GitHub or <a href=\"https://nbviewer.jupyter.org/\">NBViewer</a>),\n",
       "  it may mean that your frontend doesn't currently support widgets.\n",
       "</p>\n"
      ],
      "text/plain": [
       "interactive(children=(IntSlider(value=10, continuous_update=False, description='Days in Simulation:', layout=Layout(width='375px'), max=40, min=2, style=SliderStyle(description_width='auto')), SelectionSlider(continuous_update=False, description='ATM Activation Rate:', index=3, layout=Layout(width='375px'), options=(2.5e-06, 5e-06, 1e-05, 2e-05, 4e-05, 6e-05, 0.00012), style=DescriptionStyle(description_width='auto'), value=2e-05), Output()), _dom_classes=('widget-interact',))"
      ]
     },
     "metadata": {},
     "output_type": "display_data"
    }
   ],
   "source": [
    "#Side-by-side plot where user can edit ATMA activation rate and see effects on two groups of parameters\n",
    "parameterList1 = [\"ATMA\", \"p53\", \"Mdm2\", \"Mdm2_p53\"]\n",
    "parameterList2 = [\"damDNA\", \"ATMA\", \"ROS\"]\n",
    "\n",
    "def plotColumnP53Response(plt, result, parameters):\n",
    "    for i in range(1, len(parameters)+1):\n",
    "        plt.plot(result[:,0], result[:,i])\n",
    "    plt.legend(parameters)\n",
    "\n",
    "\n",
    "def plotP53ResponseSeparatePlots(maxDays, ATM_ActivationRate):\n",
    "    X_LIM = np.arange(0, DAY*maxDays, DAY)\n",
    "    X_TICKS = [n if n%5==0 else '' for n in np.arange(0, maxDays, 1)]\n",
    "        \n",
    "    fig, axes = plt.subplots(1, 2)\n",
    "    \n",
    "    for k in range(0, len(axes)):\n",
    "        subplot = axes[k]\n",
    "        subplot.figure.set_size_inches(10, 4)\n",
    "        subplot.grid(True)\n",
    "        \n",
    "        plt.sca(subplot)\n",
    "        plt.interactive(False)\n",
    "        plt.xticks(getX_LIM(maxDays), getX_TICKS(maxDays))\n",
    "        plt.xlabel(\"Time in Days\")\n",
    "        \n",
    "    #Plot data with p38 inhibition\n",
    "    axes[0].set_title(\"Effect of Inhibiting ATM on p53\")\n",
    "    plt.sca(axes[0])\n",
    "    r.resetAll()\n",
    "    r.kactATM = ATM_ActivationRate\n",
    "    #FIXME\n",
    "#     r.kp38ROSInhibitionLevel = 0.1\n",
    "#     r.stopp38ROSTime = 1\n",
    "    result = r.simulate(0, DAY*maxDays, 12000, [\"time\"] + parameterList1)\n",
    "    plotColumnP53Response(plt, result, parameterList1)\n",
    "    \n",
    "    #Plot control group data\n",
    "    axes[1].set_title(\"Effect of Inhibiting ATM on ROS\")\n",
    "    plt.sca(axes[1])\n",
    "    r.reset()\n",
    "    result = r.simulate(0, DAY*maxDays, 12000, [\"time\"] + parameterList2)\n",
    "    plotColumnP53Response(plt, result, parameterList2)\n",
    "    \n",
    "    plt.tight_layout() # makes sure there's no overlap of axes, titles, ticks, etc\n",
    "    plt.show()\n",
    "    plt.close()\n",
    "\n",
    "sliderATM_ActivationRate = SelectionSlider(description = 'ATM Activation Rate:', \n",
    "                                           options=[2.5e-06, 5e-06, 1e-05, 2e-05, 4e-05, 6e-05, 1.2e-04],\n",
    "                                           value=2e-05,\n",
    "                                           continuous_update=False, style=style, layout=layout, \n",
    "                                           readout_format='e')\n",
    "sliderDays = IntSlider(description = 'Days in Simulation:', min=2, max=40, step=1, value=10, continuous_update=False, style=style, layout=layout)\n",
    "interact(plotP53ResponseSeparatePlots, maxDays=sliderDays, ATM_ActivationRate=sliderATM_ActivationRate);"
   ]
  },
  {
   "cell_type": "markdown",
   "metadata": {},
   "source": [
    "Increasing the activation rate of ATMA indeed increases the concentration of p53 since there is greater phosphorylation of p53 and Mdm2 that prevents binding of Mdm2_p53.\n",
    "However, DNA damage unexpectedly increases when ATMA activation increases. Why?\n",
    "<br>\n",
    "If ATMA is very high, then p53 is very high. Then, high p53 leads to high p21 and p38, which ultimately raise the production of ROS. Thus, raising ATMA promotes the beginning of the DDR-ROS positive feedback loop.\n",
    "\n",
    "<hr style=\"border-color: #AAAAAA\"></hr>\n",
    "\n",
    "TODO confirm that high ATMA can trigger senescence.\n",
    "This paper agrees with me that ATMA inhibition should exacerbate DNA damage, not reduce it. https://www.nature.com/articles/s41598-020-61456-7#Sec2"
   ]
  },
  {
   "cell_type": "code",
   "execution_count": 41,
   "metadata": {},
   "outputs": [
    {
     "data": {
      "application/vnd.jupyter.widget-view+json": {
       "model_id": "c43650a5b9f142c3af7453b07cfbe019",
       "version_major": 2,
       "version_minor": 0
      },
      "text/html": [
       "<p>Failed to display Jupyter Widget of type <code>interactive</code>.</p>\n",
       "<p>\n",
       "  If you're reading this message in the Jupyter Notebook or JupyterLab Notebook, it may mean\n",
       "  that the widgets JavaScript is still loading. If this message persists, it\n",
       "  likely means that the widgets JavaScript library is either not installed or\n",
       "  not enabled. See the <a href=\"https://ipywidgets.readthedocs.io/en/stable/user_install.html\">Jupyter\n",
       "  Widgets Documentation</a> for setup instructions.\n",
       "</p>\n",
       "<p>\n",
       "  If you're reading this message in another frontend (for example, a static\n",
       "  rendering on GitHub or <a href=\"https://nbviewer.jupyter.org/\">NBViewer</a>),\n",
       "  it may mean that your frontend doesn't currently support widgets.\n",
       "</p>\n"
      ],
      "text/plain": [
       "interactive(children=(IntSlider(value=10, continuous_update=False, description='Days in Simulation:', layout=Layout(width='375px'), max=40, min=2, style=SliderStyle(description_width='auto')), SelectionSlider(continuous_update=False, description='ATM Activation Rate:', index=3, layout=Layout(width='375px'), options=(2.5e-06, 5e-06, 1e-05, 2e-05, 3e-05, 6e-05, 0.00012), style=DescriptionStyle(description_width='auto'), value=2e-05), Output()), _dom_classes=('widget-interact',))"
      ]
     },
     "metadata": {},
     "output_type": "display_data"
    }
   ],
   "source": [
    "parameterList = [\"damDNA\", \"ATMA\", \"p38_P\"]\n",
    "def plotP53Response(maxDays, ATM_ActivationRate):\n",
    "    plt.figure(figsize=(10,4))\n",
    "    customizePlot(plt, maxDays)\n",
    "\n",
    "    #Plot data\n",
    "    plt.title(\"p53, ATM, and Mdm2 Response to DNA Damage\")\n",
    "    r.resetAll()\n",
    "    r.kactATM = ATM_ActivationRate\n",
    "    result = r.simulate(0, DAY*maxDays, 12000, [\"time\"] + parameterList)    \n",
    "    for i in range(0, len(parameterList)):\n",
    "        plt.plot(result[:,0], result[:,i+1], label=parameterList[i])\n",
    "\n",
    "    plt.legend()\n",
    "    plt.show()\n",
    "\n",
    "sliderATM_ActivationRate = SelectionSlider(description = 'ATM Activation Rate:', \n",
    "                                           options=[2.5e-06, 5e-06, 1e-05, 2e-05, 3e-05, 6e-05, 1.2e-04],\n",
    "                                           value=2e-05,\n",
    "                                           continuous_update=False, style=style, layout=layout, \n",
    "                                           readout_format='e')\n",
    "sliderDays = IntSlider(description = 'Days in Simulation:', min=2, max=40, step=1, value=10, continuous_update=False, style=style, layout=layout)\n",
    "interact(plotP53Response, maxDays=sliderDays, ATM_ActivationRate=sliderATM_ActivationRate);"
   ]
  },
  {
   "cell_type": "markdown",
   "metadata": {},
   "source": [
    "### ROS Feedback Loop Replenishes Short-lived DDR Foci\n",
    "\n",
    "DNA damage need not be irreparable and persistent in order to trigger senescence. Instead, temporary DNA damage is sufficient for senescence as long as the positive feedback loop is maintained between DDR and ROS.\n",
    "\n",
    "#### Will many small IR pulses lead to senescence?\n",
    "If a single pulse of 5 Gy IR is applied to a cell, it should recover. Is the same true for many pulses of 5 Gy? Use the below plot to control the number of IR pulses on the cell, and observe the steady-state values of ROS and DNA damage. What happens when the pulses are spaced out? "
   ]
  },
  {
   "cell_type": "code",
   "execution_count": 28,
   "metadata": {},
   "outputs": [
    {
     "data": {
      "application/vnd.jupyter.widget-view+json": {
       "model_id": "71a90ee3e58f4fb4a12c0b672186ede4",
       "version_major": 2,
       "version_minor": 0
      },
      "text/html": [
       "<p>Failed to display Jupyter Widget of type <code>interactive</code>.</p>\n",
       "<p>\n",
       "  If you're reading this message in the Jupyter Notebook or JupyterLab Notebook, it may mean\n",
       "  that the widgets JavaScript is still loading. If this message persists, it\n",
       "  likely means that the widgets JavaScript library is either not installed or\n",
       "  not enabled. See the <a href=\"https://ipywidgets.readthedocs.io/en/stable/user_install.html\">Jupyter\n",
       "  Widgets Documentation</a> for setup instructions.\n",
       "</p>\n",
       "<p>\n",
       "  If you're reading this message in another frontend (for example, a static\n",
       "  rendering on GitHub or <a href=\"https://nbviewer.jupyter.org/\">NBViewer</a>),\n",
       "  it may mean that your frontend doesn't currently support widgets.\n",
       "</p>\n"
      ],
      "text/plain": [
       "interactive(children=(IntSlider(value=100, continuous_update=False, description='Days in Simulation:', layout=Layout(width='375px'), max=120, min=10, step=10, style=SliderStyle(description_width='auto')), SelectionSlider(continuous_update=False, description='Total Number of Pulses:', index=1, layout=Layout(width='375px'), options=(0, 1, 2, 3, 4), style=DescriptionStyle(description_width='auto'), value=1), SelectionSlider(continuous_update=False, description='Days Between Pulses:', index=1, layout=Layout(width='375px'), options=(1, 2, 3, 4, 5, 6, 7, 8, 9, 10), style=DescriptionStyle(description_width='auto'), value=2), Output()), _dom_classes=('widget-interact',))"
      ]
     },
     "metadata": {},
     "output_type": "display_data"
    }
   ],
   "source": [
    "parameterList = [\"ROS\", \"damDNA\"]\n",
    "FIRST_DAY_OF_RADIATION = 2\n",
    "def plotNRadiationPulses(maxDays, n, delay):\n",
    "    plt.figure(figsize=(10,4))\n",
    "    customizePlot(plt, maxDays)\n",
    "\n",
    "    allEvents = \"\"\n",
    "    dayCounter = FIRST_DAY_OF_RADIATION\n",
    "    for i in range(0, n):\n",
    "        allEvents += '''\n",
    "            at time>%d: IR = 5;\n",
    "            at time>%d: IR = 0;\n",
    "        '''%(DAY*dayCounter, DAY*dayCounter + 60)\n",
    "        dayCounter += delay\n",
    "    \n",
    "    p21Model = te.loada(modelNoEvents%(allEvents))\n",
    "    p21Model.irIntensity = 5\n",
    "    \n",
    "    #Plot data\n",
    "    plt.title(\"Effect of %d Pulse%s of IR on ROS\"%(n, 's' if n != 1 else ''))\n",
    "    result = p21Model.simulate(0, DAY*maxDays, 12000, [\"time\"] + parameterList)    \n",
    "    for i in range(0, len(parameterList)):\n",
    "        plt.plot(result[:,0], result[:,i+1], label=parameterList[i])\n",
    "\n",
    "    plt.legend()\n",
    "    plt.show()\n",
    "    \n",
    "\n",
    "sliderPulseCount = SelectionSlider(description = 'Total Number of Pulses:', \n",
    "                                           options=np.arange(0, 5, 1),\n",
    "                                           value=1,\n",
    "                                           continuous_update=False, style=style, layout=layout)\n",
    "sliderDelay = SelectionSlider(description = 'Days Between Pulses:', \n",
    "                                           options=np.arange(1, 11, 1),\n",
    "                                           value=2,\n",
    "                                           continuous_update=False, style=style, layout=layout)\n",
    "sliderDays = IntSlider(description = 'Days in Simulation:', min=10, max=120, step=10, value=100, continuous_update=False, style=style, layout=layout)\n",
    "interact(plotNRadiationPulses, maxDays=sliderDays, n=sliderPulseCount, delay=sliderDelay);"
   ]
  },
  {
   "cell_type": "markdown",
   "metadata": {},
   "source": [
    "You should see that even 2 pulses of IR is sufficient to trigger senescence. In this way, we can artificially induce the <u>self-sustaining feedback loop between ROS and DNA damage induction/response</u>. Also, if the 2 pulses are spaced out by 7 or more days, then the cell recovers. This indicates that the short-lived DDR foci must be continuously replenished by DNA damage in order for the feedback loop to persist."
   ]
  },
  {
   "cell_type": "markdown",
   "metadata": {},
   "source": [
    "### Role of p21 in the DDR-ROS Feedback Loop\n",
    "\n",
    "The below plot is the same as above, but it includes p21. Notice how closely p21 follows along the plots of ROS and DNA damage in shape."
   ]
  },
  {
   "cell_type": "code",
   "execution_count": 29,
   "metadata": {
    "scrolled": true
   },
   "outputs": [
    {
     "data": {
      "image/png": "[encoded data removed]",
      "text/plain": [
       "<Figure size 720x288 with 1 Axes>"
      ]
     },
     "metadata": {},
     "output_type": "display_data"
    }
   ],
   "source": [
    "parameterList = [\"ROS\", \"damDNA\", \"p21\"]\n",
    "plotNRadiationPulses(100, 2, 2)"
   ]
  },
  {
   "cell_type": "markdown",
   "metadata": {},
   "source": [
    "#### Reduction of p21 Degradation\n",
    "The previous exercise showed how several pulses of IR could be sufficient for senescence. However, accumulated DNA damage is not the sole reason for the aforementioned feedback loop. As long as DNA damage response foci induction occurs, ROS levels will remain high. \n",
    "<br/>\n",
    "Try reducing the rate at which p21 degrades. What happens to ROS and DNA damage? This plot contains one pulse of 20 Gy IR at day 2 as usual."
   ]
  },
  {
   "cell_type": "code",
   "execution_count": 42,
   "metadata": {},
   "outputs": [
    {
     "data": {
      "application/vnd.jupyter.widget-view+json": {
       "model_id": "5aead7305bca4e948bed7fe09a41feda",
       "version_major": 2,
       "version_minor": 0
      },
      "text/html": [
       "<p>Failed to display Jupyter Widget of type <code>interactive</code>.</p>\n",
       "<p>\n",
       "  If you're reading this message in the Jupyter Notebook or JupyterLab Notebook, it may mean\n",
       "  that the widgets JavaScript is still loading. If this message persists, it\n",
       "  likely means that the widgets JavaScript library is either not installed or\n",
       "  not enabled. See the <a href=\"https://ipywidgets.readthedocs.io/en/stable/user_install.html\">Jupyter\n",
       "  Widgets Documentation</a> for setup instructions.\n",
       "</p>\n",
       "<p>\n",
       "  If you're reading this message in another frontend (for example, a static\n",
       "  rendering on GitHub or <a href=\"https://nbviewer.jupyter.org/\">NBViewer</a>),\n",
       "  it may mean that your frontend doesn't currently support widgets.\n",
       "</p>\n"
      ],
      "text/plain": [
       "interactive(children=(IntSlider(value=100, continuous_update=False, description='Days in Simulation:', layout=Layout(width='375px'), max=120, min=10, step=10, style=SliderStyle(description_width='auto')), SelectionSlider(continuous_update=False, description='kdegp21:', index=1, layout=Layout(width='375px'), options=(9e-05, 0.00019, 0.00029), style=DescriptionStyle(description_width='auto'), value=0.00019), Output()), _dom_classes=('widget-interact',))"
      ]
     },
     "metadata": {},
     "output_type": "display_data"
    }
   ],
   "source": [
    "#Reduction of kdegp21\n",
    "parameterList = [\"ROS\", \"damDNA\", \"p21\"]\n",
    "FIRST_DAY_OF_RADIATION = 2\n",
    "def plotP21Degradation(maxDays, kdegp21):\n",
    "    plt.figure(figsize=(10,4))\n",
    "    customizePlot(plt, maxDays)\n",
    "\n",
    "    p21Model = te.loada(modelNoEvents%(defaultEvents))\n",
    "    p21Model.kdegp21 = kdegp21\n",
    "    \n",
    "    #Plot data\n",
    "    plt.title(\"ROS and DNA Damage Progression\")\n",
    "    result = p21Model.simulate(0, DAY*maxDays, 12000, [\"time\"] + parameterList)    \n",
    "    for i in range(0, len(parameterList)):\n",
    "        plt.plot(result[:,0], result[:,i+1], label=parameterList[i])\n",
    "\n",
    "    plt.legend()\n",
    "    plt.show()\n",
    "    \n",
    "\n",
    "sliderP21 = SelectionSlider(description = 'kdegp21:', \n",
    "                                           options=[.00009, .00019, .00029],\n",
    "                                           value=.00019,\n",
    "                                           continuous_update=False, style=style, layout=layout)\n",
    "sliderDays = IntSlider(description = 'Days in Simulation:', min=10, max=120, step=10, value=100, continuous_update=False, style=style, layout=layout)\n",
    "interact(plotP21Degradation, maxDays=sliderDays, kdegp21=sliderP21);"
   ]
  },
  {
   "cell_type": "markdown",
   "metadata": {},
   "source": [
    "If p21 degradation is reduced, the feedback loop persists and both ROS and DNA damage remain high. On the other hand, if p21 degrades quickly, the feedback loop can be interrupted such that the DNA is repaired and ROS levels decline. Therefore, p21 is critical for maintaining the senescence stress response. "
   ]
  },
  {
   "cell_type": "markdown",
   "metadata": {},
   "source": [
    "## Macroscopic Effects\n",
    "\n",
    "The molecular species discussed in this app are part of the \"five key regulators of cellular ageing: insulin-TOR, FoxO3a, DNA damage response (DDR), ROS, and mitochondrial function\" (<a href=\"https://www.ncbi.nlm.nih.gov/pmc/articles/PMC4159174/\">Dalle Pezze et al, 2014</a>). Mitochondrial dysfunction is a notable effect of senescence because, intuitively, it leads to less energy which is a sign of aging. In particular, senescence increases mitochondrial mass but decreases membrane potential. At the same time, the dysfunctional mitochondria also will produce more ROS."
   ]
  },
  {
   "cell_type": "markdown",
   "metadata": {},
   "source": [
    "## Summary\n",
    "\n",
    "Signalling through CDKN1A-GADD45A-MAPK14-GRB2-TGFβ increases ROS levels following DNA damage. Although DNA damage response is an effective means of halting tumor growth via senescence, DDR foci create a self-sustaining feedback loop with ROS that replenishes these short-lived foci. Not all of the steps in this signalling network could be included in this app, but the following foci were covered:\n",
    "- **p38**, when phosphorylated, generates ROS, so it was inhibited to decrease oxidative stress.\n",
    "- **p53** plays a pivotal role in deciding cell fate, but it does not do so alone. Sensor kinases like ATM detect DNA damage which ultimately causes p53 to be able to activate.\n",
    "- **p21** is necessary for the DDR and ROS feedback loop."
   ]
  },
  {
   "cell_type": "markdown",
   "metadata": {},
   "source": [
    "## Discussion and Further Reading\n",
    "\n",
    "Some evidence suggests that senescence can be reversed (<a href=\"https://onlinelibrary.wiley.com/doi/full/10.1111/j.1474-9726.2010.00654.x\">Choi et al, 2010</a>; <a href=\"https://pubmed.ncbi.nlm.nih.gov/12912919/\">Beauséjour et al, 2003</a>). Although growth potential can be restored, that growth is still limited and a cell cannot return to its \"young\" state following senescence. \n",
    "\n",
    "<hr style=\"border-color: #AAAAAA\"></hr>"
   ]
  },
  {
   "cell_type": "markdown",
   "metadata": {},
   "source": [
    "Sources\n",
    "\n",
    "Passos et al. https://doi.org/10.1038%2Fmsb.2010.5\n",
    "\n",
    "https://www.ncbi.nlm.nih.gov/pmc/articles/PMC3454471/\n",
    "\"Reactive oxygen species (ROS) homeostasis and redox regulation in cellular signaling\"\n",
    "\n",
    "https://pubmed.ncbi.nlm.nih.gov/18206122\n",
    "Matsuzawa A, Ichijo H (2008) Redox control of cell fate by MAP kinase: physiological roles of ASK1-MAP kinase pathway in stress signaling. Biochimica Et Biophysica Acta-General Subjects 1780: 1325–1336.\n",
    "\n",
    "https://pubmed.ncbi.nlm.nih.gov/16288288\n",
    "Greer EL, Brunet A (2005) FOXO transcription factors at the interface between longevity and tumor suppression. Oncogene 24: 7410–7425. [PubMed] [Google Scholar]\n",
    "\n",
    "https://pubmed.ncbi.nlm.nih.gov/18171426\n",
    "Greer EL, Brunet A (2008) FOXO transcription factors in ageing and cancer. Acta Physiologica 192: 19–28. [PubMed] [Google Scholar]\n",
    "    \n",
    "https://pubmed.ncbi.nlm.nih.gov/14976264\n",
    "Brunet A, Sweeney LB, Sturgill JF, Chua KF, Greer PL, et al. (2004) Stress-dependent regulation of FOXO transcription factors by the SIRT1 deacetylase. Science 303: 2011–2015.\n",
    "\n",
    "https://www.ncbi.nlm.nih.gov/pmc/articles/PMC8533283/\n",
    "Robert H. Whitaker and Jeanette Gowen Cook\n",
    "\n",
    "Pabla, N. & Dong, Z. Cisplatin nephrotoxicity: mechanisms and renoprotective strategies. Kidney Int 73, 994–1007, https://doi.org/10.1038/sj.ki.5002786 (2008).\n",
    "\n",
    "Aubrey et al.\n",
    "https://www.nature.com/articles/cdd2017169)\n",
    "\n",
    "Trino et al.\n",
    "https://www.frontiersin.org/articles/10.3389/fphar.2016.00491/full OR https://doi.org/10.3389/fphar.2016.00491\n",
    "\n",
    "Tamura et al.\n",
    "https://www.ncbi.nlm.nih.gov/pmc/articles/PMC3797964/\n",
    "\n",
    "https://pubmed.ncbi.nlm.nih.gov/12897450\n",
    "Torres and Forman, 2003\n",
    "\n",
    "https://onlinelibrary.wiley.com/doi/pdf/10.1111/cas.13184\n",
    "Watanabe et al, 2017\n",
    "\n",
    "https://pubmed.ncbi.nlm.nih.gov/12912919/ \n",
    "Beauséjour et al, 2003\n",
    "\n",
    "https://doi.org/10.1083%2Fjcb.201708092 \n",
    "McHugh and Gil, 2018"
   ]
  },
  {
   "cell_type": "markdown",
   "metadata": {},
   "source": []
  },
  {
   "cell_type": "code",
   "execution_count": null,
   "metadata": {},
   "outputs": [],
   "source": []
  }
 ],
 "metadata": {
  "extensions": {
   "jupyter_dashboards": {
    "activeView": "grid_default",
    "version": 1,
    "views": {
     "grid_default": {
      "cellMargin": 10,
      "defaultCellHeight": 20,
      "maxColumns": 12,
      "name": "grid",
      "type": "grid"
     },
     "report_default": {
      "name": "report",
      "type": "report"
     }
    }
   }
  },
  "kernelspec": {
   "display_name": "Python 3.6",
   "language": "python",
   "name": "python3"
  },
  "language_info": {
   "codemirror_mode": {
    "name": "ipython",
    "version": 3
   },
   "file_extension": ".py",
   "mimetype": "text/x-python",
   "name": "python",
   "nbconvert_exporter": "python",
   "pygments_lexer": "ipython3",
   "version": "3.6.5"
  }
 },
 "nbformat": 4,
 "nbformat_minor": 2
}
